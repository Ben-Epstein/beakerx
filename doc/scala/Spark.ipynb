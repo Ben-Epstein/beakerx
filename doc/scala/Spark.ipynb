{
 "cells": [
  {
   "cell_type": "markdown",
   "metadata": {},
   "source": [
    "# Spark\n",
    "\n",
    "[Apache Spark](https://spark.apache.org/) is a lightning-fast cluster computing API based on Scala. Deeper integration with Spark is on the [agenda](https://github.com/twosigma/beakerx/issues/6513)."
   ]
  },
  {
   "cell_type": "code",
   "execution_count": 1,
   "metadata": {
    "scrolled": false
   },
   "outputs": [
    {
     "data": {
      "application/vnd.jupyter.widget-view+json": {
       "model_id": "d5c7c949-1654-4e8f-a7f9-1419be0cd192",
       "version_major": 2,
       "version_minor": 0
      },
      "method": "display_data"
     },
     "metadata": {},
     "output_type": "display_data"
    },
    {
     "name": "stdout",
     "output_type": "stream",
     "text": [
      "Added jars: [unused-1.0.0.jar, metrics-core-3.1.2.jar, json4s-jackson_2.11-3.2.11.jar, hadoop-yarn-client-2.6.5.jar, commons-io-2.4.jar, pyrolite-4.13.jar, xbean-asm5-shaded-4.4.jar, hadoop-mapreduce-client-jobclient-2.6.5.jar, hadoop-mapreduce-client-shuffle-2.6.5.jar, hadoop-annotations-2.6.5.jar, spark-network-common_2.11-2.2.1.jar, snappy-java-1.1.2.6.jar, json4s-ast_2.11-3.2.11.jar, xml-apis-1.3.04.jar, avro-1.7.7.jar, spark-tags_2.11-2.2.1.jar, xz-1.0.jar, jul-to-slf4j-1.7.16.jar, curator-recipes-2.6.0.jar, spark-sql_2.11-2.2.1.jar, jackson-core-asl-1.9.11.jar, spark-catalyst_2.11-2.2.1.jar, jaxb-api-2.2.2.jar, httpclient-4.3.6.jar, metrics-json-3.1.2.jar, commons-cli-1.2.jar, jackson-jaxrs-1.9.13.jar, commons-beanutils-1.7.0.jar, activation-1.1.1.jar, stream-2.7.0.jar, hadoop-mapreduce-client-core-2.6.5.jar, spark-unsafe_2.11-2.2.1.jar, commons-compress-1.4.1.jar, minlog-1.3.0.jar, commons-lang-2.6.jar, scala-parser-combinators_2.11-1.0.1.jar, jackson-databind-2.6.5.jar, stax-api-1.0-2.jar, hadoop-hdfs-2.6.5.jar, jackson-mapper-asl-1.9.11.jar, chill-java-0.8.0.jar, hadoop-client-2.6.5.jar, jersey-server-2.22.2.jar, janino-3.0.0.jar, hk2-api-2.4.0-b34.jar, hadoop-yarn-api-2.6.5.jar, mx4j-3.0.2.jar, spark-network-shuffle_2.11-2.2.1.jar, jsr305-1.3.9.jar, apacheds-i18n-2.0.0-M15.jar, objenesis-2.1.jar, jackson-module-scala_2.11-2.6.5.jar, api-asn1-api-1.0.0-M20.jar, guava-16.0.1.jar, antlr4-runtime-4.5.3.jar, osgi-resource-locator-1.0.1.jar, aopalliance-repackaged-2.4.0-b34.jar, apacheds-kerberos-codec-2.0.0-M15.jar, commons-httpclient-3.1.jar, jersey-media-jaxb-2.22.2.jar, hadoop-yarn-server-common-2.6.5.jar, bcprov-jdk15on-1.51.jar, kryo-shaded-3.0.3.jar, avro-ipc-1.7.7.jar, xmlenc-0.52.jar, javax.annotation-api-1.2.jar, zookeeper-3.4.6.jar, javax.ws.rs-api-2.0.1.jar, scala-xml_2.11-1.0.1.jar, slf4j-log4j12-1.7.16.jar, mail-1.4.7.jar, leveldbjni-all-1.8.jar, commons-configuration-1.6.jar, jcl-over-slf4j-1.7.16.jar, scalap-2.11.0.jar, scala-compiler-2.11.0.jar, hk2-locator-2.4.0-b34.jar, oro-2.0.8.jar, lz4-1.3.0.jar, hk2-utils-2.4.0-b34.jar, univocity-parsers-2.2.1.jar, curator-framework-2.6.0.jar, api-util-1.0.0-M20.jar, jackson-xc-1.9.13.jar, metrics-jvm-3.1.2.jar, htrace-core-3.0.4.jar, commons-math3-3.4.1.jar, jackson-core-2.6.5.jar, curator-client-2.6.0.jar, jackson-module-paranamer-2.6.5.jar, validation-api-1.1.0.Final.jar, py4j-0.10.4.jar, chill_2.11-0.8.0.jar, spark-launcher_2.11-2.2.1.jar, netty-all-4.0.43.Final.jar, hadoop-auth-2.6.5.jar, commons-collections-3.2.2.jar, commons-digester-1.8.jar, spark-sketch_2.11-2.2.1.jar, parquet-common-1.8.2.jar, jersey-client-2.22.2.jar, xercesImpl-2.9.1.jar, paranamer-2.3.jar, protobuf-java-2.5.0.jar, parquet-column-1.8.2.jar, javassist-3.18.1-GA.jar, gson-2.2.4.jar, java-xmlbuilder-1.0.jar, commons-codec-1.10.jar, parquet-format-2.3.1.jar, ivy-2.4.0.jar, jackson-annotations-2.6.0.jar, log4j-1.2.17.jar, avro-ipc-1.7.7-tests.jar, jersey-common-2.22.2.jar, compress-lzf-1.0.3.jar, jetty-util-6.1.26.jar, javax.inject-2.4.0-b34.jar, jersey-container-servlet-core-2.22.2.jar, commons-net-2.2.jar, base64-2.3.8.jar, hadoop-yarn-common-2.6.5.jar, parquet-hadoop-1.8.2.jar, httpcore-4.3.3.jar, slf4j-api-1.7.16.jar, jets3t-0.9.3.jar, javax.servlet-api-3.1.0.jar, commons-beanutils-core-1.8.0.jar, commons-compiler-3.0.0.jar, spark-core_2.11-2.2.1.jar, hadoop-mapreduce-client-common-2.6.5.jar, metrics-graphite-3.1.2.jar, commons-crypto-1.0.0.jar, jersey-guava-2.22.2.jar, hadoop-common-2.6.5.jar, scala-library-2.11.8.jar, hadoop-mapreduce-client-app-2.6.5.jar, parquet-jackson-1.8.2.jar, scala-reflect-2.11.8.jar, netty-3.9.9.Final.jar, RoaringBitmap-0.5.11.jar, avro-mapred-1.7.7-hadoop2.jar, parquet-encoding-1.8.2.jar, json4s-core_2.11-3.2.11.jar, jersey-container-servlet-2.22.2.jar, commons-lang3-3.5.jar]\n"
     ]
    }
   ],
   "source": [
    "%%classpath add mvn\n",
    "org.apache.spark spark-sql_2.11 2.2.1"
   ]
  },
  {
   "cell_type": "code",
   "execution_count": 5,
   "metadata": {},
   "outputs": [
    {
     "name": "stderr",
     "output_type": "stream",
     "text": [
      "2018-02-06 12:19:02:306 +0300 [scala0] INFO org.apache.spark.SparkContext - Running Spark version 2.2.1\n",
      "2018-02-06 12:19:02:310 +0300 [scala0] INFO org.apache.spark.SparkContext - Submitted application: Simple Application\n",
      "2018-02-06 12:19:02:312 +0300 [scala0] INFO org.apache.spark.SecurityManager - Changing view acls to: efimovvv\n",
      "2018-02-06 12:19:02:313 +0300 [scala0] INFO org.apache.spark.SecurityManager - Changing modify acls to: efimovvv\n",
      "2018-02-06 12:19:02:314 +0300 [scala0] INFO org.apache.spark.SecurityManager - Changing view acls groups to: \n",
      "2018-02-06 12:19:02:316 +0300 [scala0] INFO org.apache.spark.SecurityManager - Changing modify acls groups to: \n",
      "2018-02-06 12:19:02:317 +0300 [scala0] INFO org.apache.spark.SecurityManager - SecurityManager: authentication disabled; ui acls disabled; users  with view permissions: Set(efimovvv); groups with view permissions: Set(); users  with modify permissions: Set(efimovvv); groups with modify permissions: Set()\n",
      "2018-02-06 12:19:02:441 +0300 [scala0] INFO org.apache.spark.util.Utils - Successfully started service 'sparkDriver' on port 62168.\n",
      "2018-02-06 12:19:02:447 +0300 [scala0] INFO org.apache.spark.SparkEnv - Registering MapOutputTracker\n",
      "2018-02-06 12:19:02:452 +0300 [scala0] INFO org.apache.spark.SparkEnv - Registering BlockManagerMaster\n",
      "2018-02-06 12:19:02:464 +0300 [scala0] INFO org.apache.spark.storage.BlockManagerMasterEndpoint - Using org.apache.spark.storage.DefaultTopologyMapper for getting topology information\n",
      "2018-02-06 12:19:02:466 +0300 [scala0] INFO org.apache.spark.storage.BlockManagerMasterEndpoint - BlockManagerMasterEndpoint up\n",
      "2018-02-06 12:19:02:469 +0300 [scala0] INFO org.apache.spark.storage.DiskBlockManager - Created local directory at C:\\Users\\efimovvv\\AppData\\Local\\Temp\\blockmgr-fdbb14dd-90ad-4d49-8e37-0192e6199c90\n",
      "2018-02-06 12:19:02:471 +0300 [scala0] INFO org.apache.spark.storage.memory.MemoryStore - MemoryStore started with capacity 912.3 MB\n",
      "2018-02-06 12:19:02:475 +0300 [scala0] INFO org.apache.spark.SparkEnv - Registering OutputCommitCoordinator\n",
      "2018-02-06 12:19:02:543 +0300 [scala0] INFO org.apache.spark.executor.Executor - Starting executor ID driver on host localhost\n",
      "2018-02-06 12:19:02:588 +0300 [scala0] INFO org.apache.spark.util.Utils - Successfully started service 'org.apache.spark.network.netty.NettyBlockTransferService' on port 62185.\n",
      "2018-02-06 12:19:02:589 +0300 [scala0] INFO org.apache.spark.network.netty.NettyBlockTransferService - Server created on 10.168.9.126:62185\n",
      "2018-02-06 12:19:02:592 +0300 [scala0] INFO org.apache.spark.storage.BlockManager - Using org.apache.spark.storage.RandomBlockReplicationPolicy for block replication policy\n",
      "2018-02-06 12:19:02:598 +0300 [scala0] INFO org.apache.spark.storage.BlockManagerMaster - Registering BlockManager BlockManagerId(driver, 10.168.9.126, 62185, None)\n",
      "2018-02-06 12:19:02:613 +0300 [scala0] INFO org.apache.spark.storage.BlockManagerMaster - Registered BlockManager BlockManagerId(driver, 10.168.9.126, 62185, None)\n",
      "2018-02-06 12:19:02:615 +0300 [scala0] INFO org.apache.spark.storage.BlockManager - Initialized BlockManager: BlockManagerId(driver, 10.168.9.126, 62185, None)\n"
     ]
    },
    {
     "data": {
      "text/plain": [
       "org.apache.spark.sql.SparkSession@2cd151ea"
      ]
     },
     "execution_count": 5,
     "metadata": {},
     "output_type": "execute_result"
    }
   ],
   "source": [
    "import org.apache.spark.sql.SparkSession\n",
    "\n",
    "val spark = SparkSession.builder()\n",
    "                        .appName(\"Simple Application\")\n",
    "                        .master(\"local[4]\")\n",
    "                        .config(\"spark.ui.enabled\", \"false\")\n",
    "                        .getOrCreate()"
   ]
  },
  {
   "cell_type": "code",
   "execution_count": 3,
   "metadata": {},
   "outputs": [
    {
     "name": "stderr",
     "output_type": "stream",
     "text": [
      "2018-02-06 11:36:43:014 +0300 [scala0] INFO org.apache.spark.SparkContext - Starting job: reduce at <console>:79\n",
      "2018-02-06 11:36:44:907 +0300 [scala0] INFO org.apache.spark.scheduler.DAGScheduler - Job 0 finished: reduce at <console>:79, took 1,874722 s\n"
     ]
    },
    {
     "name": "stdout",
     "output_type": "stream",
     "text": [
      "Pi is roughly 3.1415404\n"
     ]
    },
    {
     "data": {
      "text/plain": [
       "null"
      ]
     },
     "execution_count": 3,
     "metadata": {},
     "output_type": "execute_result"
    }
   ],
   "source": [
    "val NUM_SAMPLES = 10000000\n",
    "\n",
    "val count = spark.sparkContext.parallelize(1 to NUM_SAMPLES).map{i =>\n",
    "  val x = Math.random()\n",
    "  val y = Math.random()\n",
    "  if (x*x + y*y < 1) 1 else 0\n",
    "}.reduce(_ + _)\n",
    "\n",
    "println(\"Pi is roughly \" + 4.0 * count / NUM_SAMPLES)"
   ]
  },
  {
   "cell_type": "code",
   "execution_count": 4,
   "metadata": {},
   "outputs": [
    {
     "name": "stderr",
     "output_type": "stream",
     "text": [
      "2018-02-06 11:37:11:597 +0300 [scala0] INFO org.apache.spark.storage.memory.MemoryStore - MemoryStore cleared\n",
      "2018-02-06 11:37:11:605 +0300 [scala0] INFO org.apache.spark.storage.BlockManager - BlockManager stopped\n",
      "2018-02-06 11:37:11:627 +0300 [scala0] INFO org.apache.spark.storage.BlockManagerMaster - BlockManagerMaster stopped\n",
      "2018-02-06 11:37:11:688 +0300 [scala0] INFO org.apache.spark.SparkContext - Successfully stopped SparkContext\n"
     ]
    },
    {
     "data": {
      "text/plain": [
       "null"
      ]
     },
     "execution_count": 4,
     "metadata": {},
     "output_type": "execute_result"
    }
   ],
   "source": [
    "spark.stop()"
   ]
  },
  {
   "cell_type": "code",
   "execution_count": null,
   "metadata": {},
   "outputs": [],
   "source": []
  }
 ],
 "metadata": {
  "kernelspec": {
   "display_name": "Scala",
   "language": "scala",
   "name": "scala"
  },
  "language_info": {
   "codemirror_mode": "text/x-scala",
   "file_extension": ".scala",
   "mimetype": "",
   "name": "Scala",
   "nbconverter_exporter": "",
   "version": "2.11.11"
  }
 },
 "nbformat": 4,
 "nbformat_minor": 2
}
