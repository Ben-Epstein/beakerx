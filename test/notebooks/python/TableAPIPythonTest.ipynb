{
 "cells": [
  {
   "cell_type": "code",
   "execution_count": null,
   "metadata": {},
   "outputs": [],
   "source": [
    "from beakerx import *\n",
    "\n",
    "TableDisplay({\"a\":100, \"b\":200, \"c\":300})"
   ]
  },
  {
   "cell_type": "code",
   "execution_count": null,
   "metadata": {},
   "outputs": [],
   "source": [
    "TableDisplay([{\"a\":1}, {\"a\":10, \"b\":20}])"
   ]
  },
  {
   "cell_type": "code",
   "execution_count": null,
   "metadata": {},
   "outputs": [],
   "source": [
    "TableDisplay({\"a\":1/10, \"b\":1/20, \"c\":0.33})"
   ]
  },
  {
   "cell_type": "code",
   "execution_count": null,
   "metadata": {},
   "outputs": [],
   "source": [
    "TableDisplay([{\"a\":1/10}, {\"a\":1/100, \"b\":3.12345}])"
   ]
  },
  {
   "cell_type": "code",
   "execution_count": null,
   "metadata": {},
   "outputs": [],
   "source": [
    "TableDisplay({\"a\":'a a a', \"b\":'b b b', \"c\":'c c c'})"
   ]
  },
  {
   "cell_type": "code",
   "execution_count": null,
   "metadata": {},
   "outputs": [],
   "source": [
    "TableDisplay([{\"a\":'a'}, {\"a\":'1a', \"b\":'2b'}])"
   ]
  },
  {
   "cell_type": "code",
   "execution_count": null,
   "metadata": {},
   "outputs": [],
   "source": [
    "TableDisplay({\"a\":[1, 2, 3], \"b\":[10, 20, 30], \"c\":[100, 200, 300]})"
   ]
  },
  {
   "cell_type": "code",
   "execution_count": null,
   "metadata": {},
   "outputs": [],
   "source": [
    "TableDisplay([\n",
    "    {\"a\":[1, 2, 3]}, \n",
    "    {\"a\":[10, 20, 30], \"b\":[100, 200, 300]}])"
   ]
  },
  {
   "cell_type": "code",
   "execution_count": null,
   "metadata": {},
   "outputs": [],
   "source": [
    "row1 = {\"a\":100, \"b\":200, \"c\":300}\n",
    "row2 = {\"a\":1/10, \"b\":1/20, \"c\":0.33}\n",
    "row3 = {\"a\":'a a a', \"b\":'b b b', \"c\":'c c c'}\n",
    "row4 = {\"a\":[1, 2, 3], \"b\":[10, 20, 30], \"c\":[100, 200, 300]}\n",
    "TableDisplay([row1, row2, row3, row4])"
   ]
  },
  {
   "cell_type": "code",
   "execution_count": null,
   "metadata": {},
   "outputs": [],
   "source": [
    "TableDisplay({\"a\":100, \"b\":1/20, \"c\":'c c c', \"d\":[100, 200, 300]})"
   ]
  },
  {
   "cell_type": "code",
   "execution_count": null,
   "metadata": {},
   "outputs": [],
   "source": [
    "row1 = {\"a\":10, \"b\":1/10, \"c\":'c', \"d\":[100, 200]}\n",
    "row2 = {\"a\":100, \"b\":1/20, \"c\":'c c c', \"d\":[100, 200, 300]}\n",
    "TableDisplay([row1, row2])"
   ]
  },
  {
   "cell_type": "code",
   "execution_count": null,
   "metadata": {},
   "outputs": [],
   "source": [
    "TableDisplay({10:20, 1/10:1/20, 'c':'c c c', '[100, 200]':[100, 200, 300]})"
   ]
  },
  {
   "cell_type": "code",
   "execution_count": null,
   "metadata": {},
   "outputs": [],
   "source": [
    "row1 = {10:10, 1/10:1/10, 'c':'c'}\n",
    "row2 = {10:20, 1/10:1/20, 'c':'c c c', '[100, 200]':[100, 200, 300]}\n",
    "TableDisplay([row1, row2])"
   ]
  },
  {
   "cell_type": "markdown",
   "metadata": {},
   "source": [
    "https://docs.scipy.org/doc/numpy-1.13.0/user/basics.types.html\n",
    "http://pandas.pydata.org/pandas-docs/stable/basics.html#basics-dtypes\n",
    "The main types stored in pandas objects are float, int, bool, datetime64[ns] and datetime64[ns, tz] (in >= 0.17.0), timedelta[ns], category and object. In addition these dtypes have item sizes, e.g. int64 and int32. See Series with TZ for more detail on datetime64[ns, tz] dtypes."
   ]
  },
  {
   "cell_type": "code",
   "execution_count": null,
   "metadata": {},
   "outputs": [],
   "source": [
    "import pandas as pd\n",
    "df = pd.DataFrame({ \"A\" : pd.Series([-10, 0, 10], dtype='bool'),\n",
    "                     \"B\" : pd.Series([-10, 0, 10], dtype='int64'),\n",
    "                     \"C\" : pd.Series([100, 0, 10], dtype='uint64'),\n",
    "                     \"D\" : pd.Series([-10, 0, 10], dtype='float64'),\n",
    "                     \"E\" : pd.Series([(-10.1+5j), 0.2, (10.3-3j)], dtype='complex64'),\n",
    "                     \"F\" : pd.Series(pd.date_range('201301010130',periods=3)),\n",
    "                     \"G\" : pd.Series(pd.date_range('201301010130',periods=3,tz='US/Eastern')),\n",
    "                     \"H\" : pd.Series([ pd.Timedelta(days=i) for i in range(3) ]),\n",
    "                     \"I\" : pd.Series([\"tst\", \"123\", \"0.123\"]),\n",
    "                     \"J\" : pd.Series(list(\"ABC\"), dtype='category')})\n",
    "\n",
    "df.dtypes"
   ]
  },
  {
   "cell_type": "code",
   "execution_count": null,
   "metadata": {
    "scrolled": true
   },
   "outputs": [],
   "source": [
    "TableDisplay(pd.DataFrame({ \"A\" : pd.Series([-10, 0, 10], dtype='bool'),\n",
    "                     \"B\" : pd.Series([-10, 0, 10], dtype='int64'),\n",
    "                     \"C\" : pd.Series([100, 0, 10], dtype='uint64'),\n",
    "                     \"D\" : pd.Series([-10, 0, 10], dtype='float64'),\n",
    "                     \"E\" : pd.Series([(-10.1+5j), 0.2, (10.3-3j)], dtype='complex64'),\n",
    "                     \"F\" : pd.Series(pd.date_range('201301010130',periods=3)),\n",
    "                     \"G\" : pd.Series(pd.date_range('201301010130',periods=3,tz='US/Eastern')),\n",
    "                     \"H\" : pd.Series([ pd.Timedelta(days=i) for i in range(3) ]),\n",
    "                     \"I\" : pd.Series([\"tst\", \"123\", \"0.123\"]),\n",
    "                     \"J\" : pd.Series(list(\"ABC\"), dtype='category')}))\n"
   ]
  },
  {
   "cell_type": "code",
   "execution_count": null,
   "metadata": {},
   "outputs": [],
   "source": [
    "pd.read_csv('../../../doc/resources/data/interest-rates.csv')"
   ]
  },
  {
   "cell_type": "code",
   "execution_count": null,
   "metadata": {},
   "outputs": [],
   "source": []
  }
 ],
 "metadata": {
  "kernelspec": {
   "display_name": "Python 3",
   "language": "python",
   "name": "python3"
  },
  "language_info": {
   "codemirror_mode": {
    "name": "ipython",
    "version": 3
   },
   "file_extension": ".py",
   "mimetype": "text/x-python",
   "name": "python",
   "nbconvert_exporter": "python",
   "pygments_lexer": "ipython3",
   "version": "3.6.2"
  }
 },
 "nbformat": 4,
 "nbformat_minor": 2
}
