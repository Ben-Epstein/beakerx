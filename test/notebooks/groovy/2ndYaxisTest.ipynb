{
 "cells": [
  {
   "cell_type": "code",
   "execution_count": 14,
   "metadata": {},
   "outputs": [
    {
     "data": {
      "application/vnd.jupyter.widget-view+json": {
       "model_id": "c298279c-8030-4e97-be1a-36f2d6296266",
       "version_major": 2,
       "version_minor": 0
      },
      "method": "display_data"
     },
     "metadata": {},
     "output_type": "display_data"
    }
   ],
   "source": [
    "def plot = new Plot(title: \"Default scale\")\n",
    "def ys = [0, 2, 4, 6, 8, 10]\n",
    "def ys2 = [1, 3, 4, 7, 9, 11]\n",
    "plot << new YAxis(label:\"Spread\")\n",
    "plot << new Line(y: ys)\n",
    "plot << new Line(y: ys2, yAxis: \"Spread\")\n",
    "plot"
   ]
  },
  {
   "cell_type": "code",
   "execution_count": 15,
   "metadata": {},
   "outputs": [
    {
     "data": {
      "application/vnd.jupyter.widget-view+json": {
       "model_id": "28c644dd-f83e-4fe3-ac97-453dec26a393",
       "version_major": 2,
       "version_minor": 0
      },
      "method": "display_data"
     },
     "metadata": {},
     "output_type": "display_data"
    }
   ],
   "source": [
    "def plot = new Plot(title: \"The same scale\")\n",
    "def ys = [0, 2, 4, 6, 8, 10]\n",
    "def ys2 = [1, 3, 4, 7, 9, 11]\n",
    "plot << new YAxis(label:\"Spread\")\n",
    "plot << new Line(y: ys)\n",
    "plot << new Line(y: ys2, yAxis: \"Spread\")\n",
    "plot.getYAxes()[0].setBound(1, 11);\n",
    "plot.getYAxes()[1].setBound(1, 11);\n",
    "plot"
   ]
  },
  {
   "cell_type": "code",
   "execution_count": 16,
   "metadata": {},
   "outputs": [
    {
     "data": {
      "application/vnd.jupyter.widget-view+json": {
       "model_id": "160ea080-1232-4670-ac95-67dcf760e79f",
       "version_major": 2,
       "version_minor": 0
      },
      "method": "display_data"
     },
     "metadata": {},
     "output_type": "display_data"
    }
   ],
   "source": [
    "def plot = new Plot(title: \"2nd YAxis is zoomed\")\n",
    "def ys = [0, 2, 4, 6, 8, 10]\n",
    "def ys2 = [1, 3, 4, 7, 9, 11]\n",
    "plot << new YAxis(label:\"Spread\")\n",
    "plot << new Line(y: ys)\n",
    "plot << new Line(y: ys2, yAxis: \"Spread\")\n",
    "plot.getYAxes()[0].setBound(0, 10);\n",
    "plot.getYAxes()[1].setBound(0, 7);\n",
    "plot"
   ]
  },
  {
   "cell_type": "code",
   "execution_count": 4,
   "metadata": {},
   "outputs": [
    {
     "data": {
      "application/vnd.jupyter.widget-view+json": {
       "model_id": "0a21af45-1520-48a0-8390-ed7650443ba0",
       "version_major": 2,
       "version_minor": 0
      },
      "method": "display_data"
     },
     "metadata": {},
     "output_type": "display_data"
    }
   ],
   "source": [
    "def plot = new CategoryPlot(title: \"Default scale\")\n",
    "def cs = [new Color(255, 0, 0, 128)] * 5 // transparent color\n",
    "def cs1 = [new Color(0, 0, 0, 128)] * 5 // transparent color\n",
    "plot << new YAxis(label:\"nd\")\n",
    "plot << new CategoryBars(value: [[4, 4, 4, 8], [5, 5, 5, 9]], color: cs)\n",
    "plot << new CategoryBars(value: [[2, 4, 6, 8], [3, 5, 7, 9]], color: cs1, yAxis: \"nd\")\n",
    "plot"
   ]
  },
  {
   "cell_type": "code",
   "execution_count": 5,
   "metadata": {},
   "outputs": [
    {
     "data": {
      "application/vnd.jupyter.widget-view+json": {
       "model_id": "aa332f81-4076-4dc9-9425-a01bb23a827c",
       "version_major": 2,
       "version_minor": 0
      },
      "method": "display_data"
     },
     "metadata": {},
     "output_type": "display_data"
    }
   ],
   "source": [
    "def plot = new CategoryPlot(title: \"The same scale\")\n",
    "def cs = [new Color(255, 0, 0, 128)] * 5 // transparent color\n",
    "def cs1 = [new Color(0, 0, 0, 128)] * 5 // transparent color\n",
    "plot << new YAxis(label:\"nd\")\n",
    "plot << new CategoryBars(value: [[4, 4, 4, 8], [5, 5, 5, 9]], color: cs)\n",
    "plot << new CategoryBars(value: [[2, 4, 6, 8], [3, 5, 7, 9]], color: cs1, yAxis: \"nd\")\n",
    "plot.getYAxes()[0].setBound(0, 9);\n",
    "plot.getYAxes()[1].setBound(0, 9);\n",
    "plot"
   ]
  },
  {
   "cell_type": "code",
   "execution_count": 1,
   "metadata": {},
   "outputs": [
    {
     "data": {
      "application/vnd.jupyter.widget-view+json": {
       "model_id": "2ab935a9-40a0-4a59-b5f5-db59de16cc14",
       "version_major": 2,
       "version_minor": 0
      },
      "method": "display_data"
     },
     "metadata": {},
     "output_type": "display_data"
    }
   ],
   "source": [
    "def plot = new CategoryPlot(title: \"2nd YAxis is zoomed\")\n",
    "def cs = [new Color(255, 0, 0, 128)] * 5 // transparent color\n",
    "def cs1 = [new Color(0, 0, 0, 128)] * 5 // transparent color\n",
    "plot << new YAxis(label:\"nd\")\n",
    "plot << new CategoryBars(value: [[4, 4, 4, 8], [5, 5, 5, 9]], color: cs)\n",
    "plot << new CategoryBars(value: [[2, 4, 6, 8], [3, 5, 7, 9]], color: cs1, yAxis: \"nd\")\n",
    "plot.getYAxes()[0].setBound(0, 9);\n",
    "plot.getYAxes()[1].setBound(0, 7);\n",
    "plot"
   ]
  },
  {
   "cell_type": "code",
   "execution_count": 17,
   "metadata": {},
   "outputs": [
    {
     "data": {
      "application/vnd.jupyter.widget-view+json": {
       "model_id": "6dcb87ca-c32b-4655-98c3-b2fabea8da26",
       "version_major": 2,
       "version_minor": 0
      },
      "method": "display_data"
     },
     "metadata": {},
     "output_type": "display_data"
    }
   ],
   "source": [
    "def plot = new Plot(title: \"Default scale\");\n",
    "plot << new YAxis(label:\"nd\")\n",
    "def ss = [StrokeType.DASH, StrokeType.DASH, StrokeType.DASH, StrokeType.DASH, StrokeType.DASH]\n",
    "plot << new Stems(y: [4, 4, 4, 8, 9], width: 2)\n",
    "plot << new Stems(y: [2, 4, 6, 5, 9], width: 6, style: ss, yAxis: \"nd\")\n",
    "plot"
   ]
  },
  {
   "cell_type": "code",
   "execution_count": 18,
   "metadata": {},
   "outputs": [
    {
     "data": {
      "application/vnd.jupyter.widget-view+json": {
       "model_id": "f4a8619b-60ab-474b-9b7b-bb8d6e9ddb88",
       "version_major": 2,
       "version_minor": 0
      },
      "method": "display_data"
     },
     "metadata": {},
     "output_type": "display_data"
    }
   ],
   "source": [
    "def plot = new Plot(title: \"The same scale\");\n",
    "plot << new YAxis(label:\"nd\")\n",
    "def ss = [StrokeType.DASH, StrokeType.DASH, StrokeType.DASH, StrokeType.DASH, StrokeType.DASH]\n",
    "plot << new Stems(y: [4, 4, 4, 8, 9], width: 2)\n",
    "plot << new Stems(y: [2, 4, 6, 5, 9], width: 6, style: ss, yAxis: \"nd\")\n",
    "plot.getYAxes()[0].setBound(0, 9);\n",
    "plot.getYAxes()[1].setBound(0, 9);\n",
    "plot"
   ]
  },
  {
   "cell_type": "code",
   "execution_count": 19,
   "metadata": {},
   "outputs": [
    {
     "data": {
      "application/vnd.jupyter.widget-view+json": {
       "model_id": "0cd23427-8010-4401-999e-8ee9d5c1b8f8",
       "version_major": 2,
       "version_minor": 0
      },
      "method": "display_data"
     },
     "metadata": {},
     "output_type": "display_data"
    }
   ],
   "source": [
    "def plot = new Plot(title: \"2nd YAxis is zoomed\");\n",
    "plot << new YAxis(label:\"nd\")\n",
    "def ss = [StrokeType.DASH, StrokeType.DASH, StrokeType.DASH, StrokeType.DASH, StrokeType.DASH]\n",
    "plot << new Stems(y: [4, 4, 4, 8, 9], width: 2)\n",
    "plot << new Stems(y: [2, 4, 6, 5, 9], width: 6, style: ss, yAxis: \"nd\")\n",
    "plot.getYAxes()[0].setBound(0, 9);\n",
    "plot.getYAxes()[1].setBound(0, 7);\n",
    "plot"
   ]
  },
  {
   "cell_type": "code",
   "execution_count": 20,
   "metadata": {},
   "outputs": [
    {
     "data": {
      "application/vnd.jupyter.widget-view+json": {
       "model_id": "df571f22-3a00-4f55-8df9-ff697c88efb2",
       "version_major": 2,
       "version_minor": 0
      },
      "method": "display_data"
     },
     "metadata": {},
     "output_type": "display_data"
    }
   ],
   "source": [
    "def plot = new Plot(title: \"Default scale\")\n",
    "def cs = [new Color(255, 0, 0, 128)] * 5 // transparent bars\n",
    "def cs1 = [new Color(0, 0, 0, 128)] * 5 // transparent bars\n",
    "plot << new YAxis(label:\"nd\")\n",
    "plot << new Bars(y: [4, 4, 4, 8, 9], color: cs, width: 0.3)\n",
    "plot << new Bars(y: [2, 4, 6, 5, 9], color: cs1, width: 0.3, yAxis: \"nd\")\n",
    "plot"
   ]
  },
  {
   "cell_type": "code",
   "execution_count": 21,
   "metadata": {},
   "outputs": [
    {
     "data": {
      "application/vnd.jupyter.widget-view+json": {
       "model_id": "8a72190b-4536-40f3-b7b3-56869a41cb08",
       "version_major": 2,
       "version_minor": 0
      },
      "method": "display_data"
     },
     "metadata": {},
     "output_type": "display_data"
    }
   ],
   "source": [
    "def plot = new Plot(title: \"The same scale\")\n",
    "def cs = [new Color(255, 0, 0, 128)] * 5 // transparent bars\n",
    "def cs1 = [new Color(0, 0, 0, 128)] * 5 // transparent bars\n",
    "plot << new YAxis(label:\"nd\")\n",
    "plot << new Bars(y: [4, 4, 4, 8, 9], color: cs, width: 0.3)\n",
    "plot << new Bars(y: [2, 4, 6, 5, 9], color: cs1, width: 0.3, yAxis: \"nd\")\n",
    "plot.getYAxes()[0].setBound(0, 9);\n",
    "plot.getYAxes()[1].setBound(0, 9);\n",
    "plot"
   ]
  },
  {
   "cell_type": "code",
   "execution_count": 22,
   "metadata": {},
   "outputs": [
    {
     "data": {
      "application/vnd.jupyter.widget-view+json": {
       "model_id": "7fd7e286-9979-4971-84c4-15dd7347555b",
       "version_major": 2,
       "version_minor": 0
      },
      "method": "display_data"
     },
     "metadata": {},
     "output_type": "display_data"
    }
   ],
   "source": [
    "def plot = new Plot(title: \"2nd YAxis is zoomed\")\n",
    "def cs = [new Color(255, 0, 0, 128)] * 5 // transparent bars\n",
    "def cs1 = [new Color(0, 0, 0, 128)] * 5 // transparent bars\n",
    "plot << new YAxis(label:\"nd\")\n",
    "plot << new Bars(y: [4, 4, 4, 8, 9], color: cs, width: 0.3)\n",
    "plot << new Bars(y: [2, 4, 6, 5, 9], color: cs1, width: 0.3, yAxis: \"nd\")\n",
    "plot.getYAxes()[0].setBound(0, 9);\n",
    "plot.getYAxes()[1].setBound(0, 7);\n",
    "plot"
   ]
  },
  {
   "cell_type": "code",
   "execution_count": 23,
   "metadata": {},
   "outputs": [
    {
     "data": {
      "application/vnd.jupyter.widget-view+json": {
       "model_id": "6be5993b-659e-47b9-95df-65f624f6456d",
       "version_major": 2,
       "version_minor": 0
      },
      "method": "display_data"
     },
     "metadata": {},
     "output_type": "display_data"
    }
   ],
   "source": [
    "def plot = new Plot(title: \"Default scale\")\n",
    "plot << new YAxis(label:\"nd\")\n",
    "plot << new Points(y: [4, 4, 4, 8, 9], size: 12.0, shape: ShapeType.CIRCLE)\n",
    "plot << new Points(y: [2, 4, 6, 5, 9], size: 5.0, shape: ShapeType.CIRCLE, yAxis: \"nd\")\n",
    "plot"
   ]
  },
  {
   "cell_type": "code",
   "execution_count": 24,
   "metadata": {},
   "outputs": [
    {
     "data": {
      "application/vnd.jupyter.widget-view+json": {
       "model_id": "7166cae3-eb58-4de9-9586-d9077050ab7f",
       "version_major": 2,
       "version_minor": 0
      },
      "method": "display_data"
     },
     "metadata": {},
     "output_type": "display_data"
    }
   ],
   "source": [
    "def plot = new Plot(title: \"The same scale\")\n",
    "plot << new YAxis(label:\"nd\")\n",
    "plot << new Points(y: [4, 4, 4, 8, 9], size: 12.0, shape: ShapeType.CIRCLE)\n",
    "plot << new Points(y: [2, 4, 6, 5, 9], size: 5.0, shape: ShapeType.CIRCLE, yAxis: \"nd\")\n",
    "plot.getYAxes()[0].setBound(0, 9);\n",
    "plot.getYAxes()[1].setBound(0, 9);\n",
    "plot"
   ]
  },
  {
   "cell_type": "code",
   "execution_count": 25,
   "metadata": {},
   "outputs": [
    {
     "data": {
      "application/vnd.jupyter.widget-view+json": {
       "model_id": "cb8d4e1a-518c-41bb-a5c8-b03d77368b6b",
       "version_major": 2,
       "version_minor": 0
      },
      "method": "display_data"
     },
     "metadata": {},
     "output_type": "display_data"
    }
   ],
   "source": [
    "def plot = new Plot(title: \"2nd YAxis is zoomed\")\n",
    "plot << new YAxis(label:\"nd\")\n",
    "plot << new Points(y: [4, 4, 4, 8, 9], size: 12.0, shape: ShapeType.CIRCLE)\n",
    "plot << new Points(y: [2, 4, 6, 5, 9], size: 5.0, shape: ShapeType.CIRCLE, yAxis: \"nd\")\n",
    "plot.getYAxes()[0].setBound(0, 9);\n",
    "plot.getYAxes()[1].setBound(0, 7);\n",
    "plot"
   ]
  },
  {
   "cell_type": "code",
   "execution_count": 1,
   "metadata": {},
   "outputs": [
    {
     "data": {
      "application/vnd.jupyter.widget-view+json": {
       "model_id": "96b1cb60-28b4-4077-bc9f-a4dc5d887286",
       "version_major": 2,
       "version_minor": 0
      },
      "method": "display_data"
     },
     "metadata": {},
     "output_type": "display_data"
    }
   ],
   "source": [
    "def p = new CategoryPlot(title: \"Multiple Y Axes Demo\",\n",
    "                         yLabel: \"Price\",\n",
    "                         categoryNames: [\"Q1\", \"Q2\", \"Q3\", \"Q4\"])\n",
    "p << new YAxis(label: \"Volume\", upperMargin: 1)\n",
    "p << new CategoryBars(value: [[1500, 2200, 2500, 4000]], width: 0.6,\n",
    "                      color: Color.PINK, yAxis: \"Volume\", showItemLabel: true,\n",
    "                      labelPosition: LabelPositionType.VALUE_INSIDE)\n",
    "p << new CategoryLines(value: [[5, 2, 3.5, 4]], color: Color.GRAY,\n",
    "                       showItemLabel:true)\n",
    "p << new CategoryPoints(value:[[5, 2, 3.5, 4]], color:Color.GRAY)"
   ]
  },
  {
   "cell_type": "code",
   "execution_count": 3,
   "metadata": {},
   "outputs": [
    {
     "data": {
      "application/vnd.jupyter.widget-view+json": {
       "model_id": "a082eb18-5bda-428a-bf06-904a4cdd4d33",
       "version_major": 2,
       "version_minor": 0
      },
      "method": "display_data"
     },
     "metadata": {},
     "output_type": "display_data"
    }
   ],
   "source": [
    "def p = new Plot()\n",
    "p << new YAxis(label:\"nd\")\n",
    "p << new Line(y: [3, 6, 12, 24], displayName: \"Median\")\n",
    "p << new Area(y: [4, 8, 16, 32], base: [2, 4, 8, 16],\n",
    "              color: new Color(255, 0, 0, 50), displayName: \"Q1 to Q3\", yAxis: \"nd\")\n",
    "p.getYAxes()[1].setBound(0,100)\n",
    "p"
   ]
  },
  {
   "cell_type": "code",
   "execution_count": null,
   "metadata": {},
   "outputs": [],
   "source": []
  }
 ],
 "metadata": {
  "kernelspec": {
   "display_name": "Groovy",
   "language": "groovy",
   "name": "groovy"
  },
  "language_info": {
   "codemirror_mode": "groovy",
   "file_extension": ".groovy",
   "mimetype": "",
   "name": "Groovy",
   "nbconverter_exporter": "",
   "version": "2.4.3"
  }
 },
 "nbformat": 4,
 "nbformat_minor": 2
}
