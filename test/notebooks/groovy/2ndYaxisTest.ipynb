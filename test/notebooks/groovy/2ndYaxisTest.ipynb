{
 "cells": [
  {
   "cell_type": "code",
   "execution_count": 67,
   "metadata": {},
   "outputs": [
    {
     "data": {
      "application/vnd.jupyter.widget-view+json": {
       "model_id": "efa1b8ff-dc43-4996-8fd9-eb498e297c2e",
       "version_major": 2,
       "version_minor": 0
      },
      "method": "display_data"
     },
     "metadata": {},
     "output_type": "display_data"
    }
   ],
   "source": [
    "def plot = new Plot(title: \"Default scale\")\n",
    "def ys = [0, 2, 4, 6, 8, 10]\n",
    "def ys2 = [1, 3, 4, 7, 9, 11]\n",
    "plot << new YAxis(label:\"Spread\")\n",
    "plot << new Line(y: ys)\n",
    "plot << new Line(y: ys2, yAxis: \"Spread\")\n",
    "plot"
   ]
  },
  {
   "cell_type": "code",
   "execution_count": 68,
   "metadata": {},
   "outputs": [
    {
     "data": {
      "application/vnd.jupyter.widget-view+json": {
       "model_id": "bc00b666-882b-491a-a5b0-8e1d5aacbeae",
       "version_major": 2,
       "version_minor": 0
      },
      "method": "display_data"
     },
     "metadata": {},
     "output_type": "display_data"
    }
   ],
   "source": [
    "def plot = new Plot(title: \"The same scale\")\n",
    "def ys = [0, 2, 4, 6, 8, 10]\n",
    "def ys2 = [1, 3, 4, 7, 9, 11]\n",
    "plot << new YAxis(label:\"Spread\")\n",
    "plot << new Line(y: ys)\n",
    "plot << new Line(y: ys2, yAxis: \"Spread\")\n",
    "plot.getYAxes()[0].setBound(1, 11);\n",
    "plot.getYAxes()[1].setBound(1, 11);\n",
    "plot"
   ]
  },
  {
   "cell_type": "code",
   "execution_count": 70,
   "metadata": {},
   "outputs": [
    {
     "data": {
      "application/vnd.jupyter.widget-view+json": {
       "model_id": "bac86927-7946-43e6-8ba5-0b6d0e4e9b10",
       "version_major": 2,
       "version_minor": 0
      },
      "method": "display_data"
     },
     "metadata": {},
     "output_type": "display_data"
    }
   ],
   "source": [
    "def plot = new Plot(title: \"2nd YAxis is zoomed\")\n",
    "def ys = [0, 2, 4, 6, 8, 10]\n",
    "def ys2 = [1, 3, 4, 7, 9, 11]\n",
    "plot << new YAxis(label:\"Spread\")\n",
    "plot << new Line(y: ys)\n",
    "plot << new Line(y: ys2, yAxis: \"Spread\")\n",
    "plot.getYAxes()[0].setBound(0, 10);\n",
    "plot.getYAxes()[1].setBound(0, 7);\n",
    "plot"
   ]
  },
  {
   "cell_type": "code",
   "execution_count": 4,
   "metadata": {},
   "outputs": [
    {
     "data": {
      "application/vnd.jupyter.widget-view+json": {
       "model_id": "6e714f19-088d-430e-98b8-6c74e29571ab",
       "version_major": 2,
       "version_minor": 0
      },
      "method": "display_data"
     },
     "metadata": {},
     "output_type": "display_data"
    }
   ],
   "source": [
    "def plot = new CategoryPlot(title: \"Default scale\")\n",
    "def cs = [new Color(255, 0, 0, 128)] * 5 // transparent color\n",
    "def cs1 = [new Color(0, 0, 0, 128)] * 5 // transparent color\n",
    "plot << new YAxis(label:\"nd\")\n",
    "plot << new CategoryBars(value: [[4, 4, 4, 8], [5, 5, 5, 9]], color: cs)\n",
    "plot << new CategoryBars(value: [[2, 4, 6, 8], [3, 5, 7, 9]], color: cs1, yAxis: \"nd\")\n",
    "plot"
   ]
  },
  {
   "cell_type": "code",
   "execution_count": 20,
   "metadata": {},
   "outputs": [
    {
     "data": {
      "application/vnd.jupyter.widget-view+json": {
       "model_id": "0b91079b-7431-4aff-8a23-bcddbc336009",
       "version_major": 2,
       "version_minor": 0
      },
      "method": "display_data"
     },
     "metadata": {},
     "output_type": "display_data"
    }
   ],
   "source": [
    "def plot = new CategoryPlot(title: \"The same scale\")\n",
    "def cs = [new Color(255, 0, 0, 128)] * 5 // transparent color\n",
    "def cs1 = [new Color(0, 0, 0, 128)] * 5 // transparent color\n",
    "plot << new YAxis(label:\"nd\")\n",
    "plot << new CategoryBars(value: [[4, 4, 4, 8], [5, 5, 5, 9]], color: cs)\n",
    "plot << new CategoryBars(value: [[2, 4, 6, 8], [3, 5, 7, 9]], color: cs1, yAxis: \"nd\")\n",
    "plot.getYAxes()[0].setBound(0, 9);\n",
    "plot.getYAxes()[1].setBound(0, 9);\n",
    "plot"
   ]
  },
  {
   "cell_type": "code",
   "execution_count": 23,
   "metadata": {},
   "outputs": [
    {
     "data": {
      "application/vnd.jupyter.widget-view+json": {
       "model_id": "4b8c956a-41be-4eac-9d6e-5270d0990bf3",
       "version_major": 2,
       "version_minor": 0
      },
      "method": "display_data"
     },
     "metadata": {},
     "output_type": "display_data"
    }
   ],
   "source": [
    "def plot = new CategoryPlot(title: \"2nd YAxis is zoomed\")\n",
    "def cs = [new Color(255, 0, 0, 128)] * 5 // transparent color\n",
    "def cs1 = [new Color(0, 0, 0, 128)] * 5 // transparent color\n",
    "plot << new YAxis(label:\"nd\")\n",
    "plot << new CategoryBars(value: [[4, 4, 4, 8], [5, 5, 5, 9]], color: cs)\n",
    "plot << new CategoryBars(value: [[2, 4, 6, 8], [3, 5, 7, 9]], color: cs1, yAxis: \"nd\")\n",
    "plot.getYAxes()[0].setBound(0, 9);\n",
    "plot.getYAxes()[1].setBound(0, 7);\n",
    "plot"
   ]
  },
  {
   "cell_type": "code",
   "execution_count": 39,
   "metadata": {},
   "outputs": [
    {
     "data": {
      "application/vnd.jupyter.widget-view+json": {
       "model_id": "f0e39e79-7db9-4bc2-bbef-5a21e533f611",
       "version_major": 2,
       "version_minor": 0
      },
      "method": "display_data"
     },
     "metadata": {},
     "output_type": "display_data"
    }
   ],
   "source": [
    "def plot = new Plot(title: \"Default scale\");\n",
    "plot << new YAxis(label:\"nd\")\n",
    "def ss = [StrokeType.DASH, StrokeType.DASH, StrokeType.DASH, StrokeType.DASH, StrokeType.DASH]\n",
    "plot << new Stems(y: [4, 4, 4, 8, 9], width: 2)\n",
    "plot << new Stems(y: [2, 4, 6, 5, 9], width: 6, style: ss, yAxis: \"nd\")\n",
    "plot"
   ]
  },
  {
   "cell_type": "code",
   "execution_count": 40,
   "metadata": {},
   "outputs": [
    {
     "data": {
      "application/vnd.jupyter.widget-view+json": {
       "model_id": "c62101d7-e88e-4af1-9a48-d5e88381e7f5",
       "version_major": 2,
       "version_minor": 0
      },
      "method": "display_data"
     },
     "metadata": {},
     "output_type": "display_data"
    }
   ],
   "source": [
    "def plot = new Plot(title: \"The same scale\");\n",
    "plot << new YAxis(label:\"nd\")\n",
    "def ss = [StrokeType.DASH, StrokeType.DASH, StrokeType.DASH, StrokeType.DASH, StrokeType.DASH]\n",
    "plot << new Stems(y: [4, 4, 4, 8, 9], width: 2)\n",
    "plot << new Stems(y: [2, 4, 6, 5, 9], width: 6, style: ss, yAxis: \"nd\")\n",
    "plot.getYAxes()[0].setBound(0, 9);\n",
    "plot.getYAxes()[1].setBound(0, 9);\n",
    "plot"
   ]
  },
  {
   "cell_type": "code",
   "execution_count": 41,
   "metadata": {},
   "outputs": [
    {
     "data": {
      "application/vnd.jupyter.widget-view+json": {
       "model_id": "eed120d6-61d5-4a6c-9c88-014158f393c7",
       "version_major": 2,
       "version_minor": 0
      },
      "method": "display_data"
     },
     "metadata": {},
     "output_type": "display_data"
    }
   ],
   "source": [
    "def plot = new Plot(title: \"2nd YAxis is zoomed\");\n",
    "plot << new YAxis(label:\"nd\")\n",
    "def ss = [StrokeType.DASH, StrokeType.DASH, StrokeType.DASH, StrokeType.DASH, StrokeType.DASH]\n",
    "plot << new Stems(y: [4, 4, 4, 8, 9], width: 2)\n",
    "plot << new Stems(y: [2, 4, 6, 5, 9], width: 6, style: ss, yAxis: \"nd\")\n",
    "plot.getYAxes()[0].setBound(0, 9);\n",
    "plot.getYAxes()[1].setBound(0, 7);\n",
    "plot"
   ]
  },
  {
   "cell_type": "code",
   "execution_count": 52,
   "metadata": {},
   "outputs": [
    {
     "data": {
      "application/vnd.jupyter.widget-view+json": {
       "model_id": "595b0b42-e174-4332-b9cc-3aec5cfafd6f",
       "version_major": 2,
       "version_minor": 0
      },
      "method": "display_data"
     },
     "metadata": {},
     "output_type": "display_data"
    }
   ],
   "source": [
    "def plot = new Plot(title: \"Default scale\")\n",
    "def cs = [new Color(255, 0, 0, 128)] * 5 // transparent bars\n",
    "def cs1 = [new Color(0, 0, 0, 128)] * 5 // transparent bars\n",
    "plot << new YAxis(label:\"nd\")\n",
    "plot << new Bars(y: [4, 4, 4, 8, 9], color: cs, width: 0.3)\n",
    "plot << new Bars(y: [2, 4, 6, 5, 9], color: cs1, width: 0.3, yAxis: \"nd\")\n",
    "plot"
   ]
  },
  {
   "cell_type": "code",
   "execution_count": 54,
   "metadata": {},
   "outputs": [
    {
     "data": {
      "application/vnd.jupyter.widget-view+json": {
       "model_id": "b5bf0c15-6912-43fc-aec8-3246c1bf66a8",
       "version_major": 2,
       "version_minor": 0
      },
      "method": "display_data"
     },
     "metadata": {},
     "output_type": "display_data"
    }
   ],
   "source": [
    "def plot = new Plot(title: \"The same scale\")\n",
    "def cs = [new Color(255, 0, 0, 128)] * 5 // transparent bars\n",
    "def cs1 = [new Color(0, 0, 0, 128)] * 5 // transparent bars\n",
    "plot << new YAxis(label:\"nd\")\n",
    "plot << new Bars(y: [4, 4, 4, 8, 9], color: cs, width: 0.3)\n",
    "plot << new Bars(y: [2, 4, 6, 5, 9], color: cs1, width: 0.3, yAxis: \"nd\")\n",
    "plot.getYAxes()[0].setBound(0, 9);\n",
    "plot.getYAxes()[1].setBound(0, 9);\n",
    "plot"
   ]
  },
  {
   "cell_type": "code",
   "execution_count": 53,
   "metadata": {},
   "outputs": [
    {
     "data": {
      "application/vnd.jupyter.widget-view+json": {
       "model_id": "c1c67c3d-65a7-437e-a294-ea7cee84469c",
       "version_major": 2,
       "version_minor": 0
      },
      "method": "display_data"
     },
     "metadata": {},
     "output_type": "display_data"
    }
   ],
   "source": [
    "def plot = new Plot(title: \"2nd YAxis is zoomed\")\n",
    "def cs = [new Color(255, 0, 0, 128)] * 5 // transparent bars\n",
    "def cs1 = [new Color(0, 0, 0, 128)] * 5 // transparent bars\n",
    "plot << new YAxis(label:\"nd\")\n",
    "plot << new Bars(y: [4, 4, 4, 8, 9], color: cs, width: 0.3)\n",
    "plot << new Bars(y: [2, 4, 6, 5, 9], color: cs1, width: 0.3, yAxis: \"nd\")\n",
    "plot.getYAxes()[0].setBound(0, 9);\n",
    "plot.getYAxes()[1].setBound(0, 7);\n",
    "plot"
   ]
  },
  {
   "cell_type": "code",
   "execution_count": 51,
   "metadata": {},
   "outputs": [
    {
     "data": {
      "application/vnd.jupyter.widget-view+json": {
       "model_id": "cc1e167d-0197-4b09-9766-d6c7553db1ec",
       "version_major": 2,
       "version_minor": 0
      },
      "method": "display_data"
     },
     "metadata": {},
     "output_type": "display_data"
    }
   ],
   "source": [
    "def plot = new Plot(title: \"Default scale\")\n",
    "plot << new YAxis(label:\"nd\")\n",
    "plot << new Points(y: [4, 4, 4, 8, 9], size: 12.0, shape: ShapeType.DIAMOND)\n",
    "plot << new Points(y: [2, 4, 6, 5, 9], size: 5.0, shape: ShapeType.CIRCLE, yAxis: \"nd\")\n",
    "plot"
   ]
  },
  {
   "cell_type": "code",
   "execution_count": 55,
   "metadata": {},
   "outputs": [
    {
     "data": {
      "application/vnd.jupyter.widget-view+json": {
       "model_id": "78f2f77e-8944-4e28-8a5a-2b092ba3d327",
       "version_major": 2,
       "version_minor": 0
      },
      "method": "display_data"
     },
     "metadata": {},
     "output_type": "display_data"
    }
   ],
   "source": [
    "def plot = new Plot(title: \"The same scale\")\n",
    "plot << new YAxis(label:\"nd\")\n",
    "plot << new Points(y: [4, 4, 4, 8, 9], size: 12.0, shape: ShapeType.DIAMOND)\n",
    "plot << new Points(y: [2, 4, 6, 5, 9], size: 5.0, shape: ShapeType.CIRCLE, yAxis: \"nd\")\n",
    "plot.getYAxes()[0].setBound(0, 9);\n",
    "plot.getYAxes()[1].setBound(0, 9);\n",
    "plot"
   ]
  },
  {
   "cell_type": "code",
   "execution_count": 56,
   "metadata": {},
   "outputs": [
    {
     "data": {
      "application/vnd.jupyter.widget-view+json": {
       "model_id": "e02e2421-34e5-480a-8741-ceea8306c01f",
       "version_major": 2,
       "version_minor": 0
      },
      "method": "display_data"
     },
     "metadata": {},
     "output_type": "display_data"
    }
   ],
   "source": [
    "def plot = new Plot(title: \"2nd YAxis is zoomed\")\n",
    "plot << new YAxis(label:\"nd\")\n",
    "plot << new Points(y: [4, 4, 4, 8, 9], size: 12.0, shape: ShapeType.DIAMOND)\n",
    "plot << new Points(y: [2, 4, 6, 5, 9], size: 5.0, shape: ShapeType.CIRCLE, yAxis: \"nd\")\n",
    "plot.getYAxes()[0].setBound(0, 9);\n",
    "plot.getYAxes()[1].setBound(0, 7);\n",
    "plot"
   ]
  },
  {
   "cell_type": "code",
   "execution_count": 57,
   "metadata": {},
   "outputs": [
    {
     "data": {
      "application/vnd.jupyter.widget-view+json": {
       "model_id": "b78d4fdf-05b4-473e-bc79-608bd2fcf3fc",
       "version_major": 2,
       "version_minor": 0
      },
      "method": "display_data"
     },
     "metadata": {},
     "output_type": "display_data"
    }
   ],
   "source": [
    "def p = new CategoryPlot(title: \"Multiple Y Axes Demo\",\n",
    "                         yLabel: \"Price\",\n",
    "                         categoryNames: [\"Q1\", \"Q2\", \"Q3\", \"Q4\"])\n",
    "p << new YAxis(label: \"Volume\", upperMargin: 1)\n",
    "p << new CategoryBars(value: [[1500, 2200, 2500, 4000]], width: 0.6,\n",
    "                      color: Color.PINK, yAxis: \"Volume\", showItemLabel: true,\n",
    "                      labelPosition: LabelPositionType.VALUE_INSIDE)\n",
    "p << new CategoryLines(value: [[5, 2, 3.5, 4]], color: Color.GRAY,\n",
    "                       showItemLabel:true)\n",
    "p << new CategoryPoints(value:[[5, 2, 3.5, 4]], color:Color.GRAY)"
   ]
  },
  {
   "cell_type": "code",
   "execution_count": 60,
   "metadata": {},
   "outputs": [
    {
     "data": {
      "application/vnd.jupyter.widget-view+json": {
       "model_id": "a8328be1-5b92-4285-ad62-41f1a4f0c190",
       "version_major": 2,
       "version_minor": 0
      },
      "method": "display_data"
     },
     "metadata": {},
     "output_type": "display_data"
    }
   ],
   "source": [
    "def p = new Plot()\n",
    "p << new YAxis(label:\"nd\")\n",
    "p << new Line(y: [3, 6, 12, 24], displayName: \"Median\")\n",
    "p << new Area(y: [4, 8, 16, 32], base: [2, 4, 8, 16],\n",
    "              color: new Color(255, 0, 0, 50), displayName: \"Q1 to Q3\", yAxis: \"nd\")\n",
    "p.getYAxes()[1].setBound(0,100)\n",
    "p"
   ]
  },
  {
   "cell_type": "code",
   "execution_count": null,
   "metadata": {},
   "outputs": [],
   "source": []
  }
 ],
 "metadata": {
  "kernelspec": {
   "display_name": "Groovy",
   "language": "groovy",
   "name": "groovy"
  },
  "language_info": {
   "codemirror_mode": "groovy",
   "file_extension": ".groovy",
   "mimetype": "",
   "name": "Groovy",
   "nbconverter_exporter": "",
   "version": "2.4.3"
  }
 },
 "nbformat": 4,
 "nbformat_minor": 2
}
