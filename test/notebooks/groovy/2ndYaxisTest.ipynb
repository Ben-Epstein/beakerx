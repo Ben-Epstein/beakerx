{
 "cells": [
  {
   "cell_type": "code",
   "execution_count": 50,
   "metadata": {},
   "outputs": [
    {
     "data": {
      "application/vnd.jupyter.widget-view+json": {
       "model_id": "505e264b-b7a1-4eea-9aa8-07266704ea39",
       "version_major": 2,
       "version_minor": 0
      },
      "method": "display_data"
     },
     "metadata": {},
     "output_type": "display_data"
    }
   ],
   "source": [
    "def plot = new Plot(title: \"Default scale\")\n",
    "def ys = [0, 2, 4, 6, 8, 10]\n",
    "def ys2 = [1, 3, 4, 7, 9, 11]\n",
    "plot << new YAxis(label:\"Spread\")\n",
    "plot << new Line(y: ys)\n",
    "plot << new Line(y: ys2, yAxis: \"Spread\")\n",
    "plot"
   ]
  },
  {
   "cell_type": "code",
   "execution_count": 2,
   "metadata": {},
   "outputs": [
    {
     "data": {
      "application/vnd.jupyter.widget-view+json": {
       "model_id": "99ccb196-e1bd-4880-af82-4d70fc541fc8",
       "version_major": 2,
       "version_minor": 0
      },
      "method": "display_data"
     },
     "metadata": {},
     "output_type": "display_data"
    }
   ],
   "source": [
    "def plot = new Plot(title: \"The same scale\")\n",
    "def ys = [0, 2, 4, 6, 8, 10]\n",
    "def ys2 = [1, 3, 4, 7, 9, 11]\n",
    "plot << new YAxis(label:\"Spread\")\n",
    "plot << new Line(y: ys)\n",
    "plot << new Line(y: ys2, yAxis: \"Spread\")\n",
    "plot.getYAxes()[0].setBound(1,11);\n",
    "plot"
   ]
  },
  {
   "cell_type": "code",
   "execution_count": 4,
   "metadata": {},
   "outputs": [
    {
     "data": {
      "application/vnd.jupyter.widget-view+json": {
       "model_id": "d2eccab1-ac2d-4ce6-aa33-08f63aacaaea",
       "version_major": 2,
       "version_minor": 0
      },
      "method": "display_data"
     },
     "metadata": {},
     "output_type": "display_data"
    }
   ],
   "source": [
    "def plot = new Plot(title: \"2nd YAxis is zoomed\")\n",
    "def ys = [0, 2, 4, 6, 8, 10]\n",
    "def ys2 = [1, 3, 4, 7, 9, 11]\n",
    "plot << new YAxis(label:\"Spread\")\n",
    "plot << new Line(y: ys)\n",
    "plot << new Line(y: ys2, yAxis: \"Spread\")\n",
    "plot.getYAxes()[1].setBound(1,7)\n",
    "plot"
   ]
  },
  {
   "cell_type": "code",
   "execution_count": 54,
   "metadata": {},
   "outputs": [
    {
     "data": {
      "application/vnd.jupyter.widget-view+json": {
       "model_id": "f5e3dc16-2775-4532-8e87-9856b4150c84",
       "version_major": 2,
       "version_minor": 0
      },
      "method": "display_data"
     },
     "metadata": {},
     "output_type": "display_data"
    }
   ],
   "source": [
    "def plot = new CategoryPlot(title: \"Default scale\")\n",
    "def cs = [new Color(255, 0, 0, 128)] * 5 // transparent color\n",
    "def cs1 = [new Color(0, 0, 0, 128)] * 5 // transparent color\n",
    "plot << new YAxis(label:\"nd\")\n",
    "plot << new CategoryBars(value: [[4, 4, 4, 8], [5, 5, 5, 9]], color: cs)\n",
    "plot << new CategoryBars(value: [[2, 4, 6, 8], [3, 5, 7, 9]], color: cs1, yAxis: \"nd\")\n",
    "plot"
   ]
  },
  {
   "cell_type": "code",
   "execution_count": 58,
   "metadata": {},
   "outputs": [
    {
     "data": {
      "application/vnd.jupyter.widget-view+json": {
       "model_id": "81bd8f02-77e3-41f9-97c7-c4ba4fa59bf3",
       "version_major": 2,
       "version_minor": 0
      },
      "method": "display_data"
     },
     "metadata": {},
     "output_type": "display_data"
    }
   ],
   "source": [
    "def plot = new CategoryPlot(title: \"The same scale\")\n",
    "def cs = [new Color(255, 0, 0, 128)] * 5 // transparent color\n",
    "def cs1 = [new Color(0, 0, 0, 128)] * 5 // transparent color\n",
    "plot << new YAxis(label:\"nd\")\n",
    "plot << new CategoryBars(value: [[4, 4, 4, 8], [5, 5, 5, 9]], color: cs)\n",
    "plot << new CategoryBars(value: [[2, 4, 6, 8], [3, 5, 7, 9]], color: cs1, yAxis: \"nd\")\n",
    "plot.getYAxes()[1].setBound(0, 11);\n",
    "plot"
   ]
  },
  {
   "cell_type": "code",
   "execution_count": 57,
   "metadata": {},
   "outputs": [
    {
     "data": {
      "application/vnd.jupyter.widget-view+json": {
       "model_id": "3d952469-0ed3-45ab-983d-6cf7cf580304",
       "version_major": 2,
       "version_minor": 0
      },
      "method": "display_data"
     },
     "metadata": {},
     "output_type": "display_data"
    }
   ],
   "source": [
    "def plot = new CategoryPlot(title: \"2nd YAxis is zoomed\")\n",
    "def cs = [new Color(255, 0, 0, 128)] * 5 // transparent color\n",
    "def cs1 = [new Color(0, 0, 0, 128)] * 5 // transparent color\n",
    "plot << new YAxis(label:\"nd\")\n",
    "plot << new CategoryBars(value: [[4, 4, 4, 8], [5, 5, 5, 9]], color: cs)\n",
    "plot << new CategoryBars(value: [[2, 4, 6, 8], [3, 5, 7, 9]], color: cs1, yAxis: \"nd\")\n",
    "plot.getYAxes()[1].setBound(0, 7);\n",
    "plot"
   ]
  },
  {
   "cell_type": "code",
   "execution_count": 11,
   "metadata": {},
   "outputs": [
    {
     "data": {
      "application/vnd.jupyter.widget-view+json": {
       "model_id": "6c3fafa5-a048-4696-9dac-acfa2d1efd99",
       "version_major": 2,
       "version_minor": 0
      },
      "method": "display_data"
     },
     "metadata": {},
     "output_type": "display_data"
    }
   ],
   "source": [
    "def p = new CategoryPlot(title: \"Multiple Y Axes Demo\",\n",
    "                         yLabel: \"Price\",\n",
    "                         categoryNames: [\"Q1\", \"Q2\", \"Q3\", \"Q4\"])\n",
    "p << new YAxis(label: \"Volume\", upperMargin: 1)\n",
    "p << new CategoryBars(value: [[1500, 2200, 2500, 4000]], width: 0.6,\n",
    "                      color: Color.PINK, yAxis: \"Volume\", showItemLabel: true,\n",
    "                      labelPosition: LabelPositionType.VALUE_INSIDE)\n",
    "p << new CategoryLines(value: [[5, 2, 3.5, 4]], color: Color.GRAY,\n",
    "                       showItemLabel:true)\n",
    "p << new CategoryPoints(value:[[5, 2, 3.5, 4]], color:Color.GRAY)"
   ]
  },
  {
   "cell_type": "code",
   "execution_count": null,
   "metadata": {},
   "outputs": [],
   "source": []
  }
 ],
 "metadata": {
  "kernelspec": {
   "display_name": "Groovy",
   "language": "groovy",
   "name": "groovy"
  },
  "language_info": {
   "codemirror_mode": "groovy",
   "file_extension": ".groovy",
   "mimetype": "",
   "name": "Groovy",
   "nbconverter_exporter": "",
   "version": "2.4.3"
  }
 },
 "nbformat": 4,
 "nbformat_minor": 2
}
