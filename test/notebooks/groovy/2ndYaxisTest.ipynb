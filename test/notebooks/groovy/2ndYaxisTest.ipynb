{
 "cells": [
  {
   "cell_type": "code",
   "execution_count": 1,
   "metadata": {},
   "outputs": [
    {
     "data": {
      "application/vnd.jupyter.widget-view+json": {
       "model_id": "d3cc3a55-2666-4c13-8f82-e27eaddcb485",
       "version_major": 2,
       "version_minor": 0
      },
      "method": "display_data"
     },
     "metadata": {},
     "output_type": "display_data"
    }
   ],
   "source": [
    "def plot = new Plot(title: \"Default scale\")\n",
    "def ys = [0, 3, 4, 6, 8, 10]\n",
    "def ys2 = [1, 3, 4, 7, 9, 11]\n",
    "plot << new YAxis(label:\"Spread\")\n",
    "plot << new Line(y: ys)\n",
    "plot << new Line(y: ys2, yAxis: \"Spread\")\n",
    "plot"
   ]
  },
  {
   "cell_type": "code",
   "execution_count": 2,
   "metadata": {},
   "outputs": [
    {
     "data": {
      "application/vnd.jupyter.widget-view+json": {
       "model_id": "f16325cd-a9a1-43f2-837f-b57586f82668",
       "version_major": 2,
       "version_minor": 0
      },
      "method": "display_data"
     },
     "metadata": {},
     "output_type": "display_data"
    }
   ],
   "source": [
    "def plot = new Plot(title: \"The same scale\")\n",
    "def ys = [0, 3, 4, 6, 8, 10]\n",
    "def ys2 = [1, 3, 4, 7, 9, 11]\n",
    "plot << new YAxis(label:\"Spread\")\n",
    "plot << new Line(y: ys)\n",
    "plot << new Line(y: ys2, yAxis: \"Spread\")\n",
    "plot.getYAxes()[0].setBound(1, 11);\n",
    "plot.getYAxes()[1].setBound(1, 11);\n",
    "plot"
   ]
  },
  {
   "cell_type": "code",
   "execution_count": 3,
   "metadata": {},
   "outputs": [
    {
     "data": {
      "application/vnd.jupyter.widget-view+json": {
       "model_id": "c66236a4-b60a-4434-9c31-95b97d4f459c",
       "version_major": 2,
       "version_minor": 0
      },
      "method": "display_data"
     },
     "metadata": {},
     "output_type": "display_data"
    }
   ],
   "source": [
    "def plot = new Plot(title: \"2nd YAxis is zoomed\")\n",
    "def ys = [0, 3, 4, 6, 8, 10]\n",
    "def ys2 = [1, 3, 4, 7, 9, 11]\n",
    "plot << new YAxis(label:\"Spread\")\n",
    "plot << new Line(y: ys)\n",
    "plot << new Line(y: ys2, yAxis: \"Spread\")\n",
    "plot.getYAxes()[0].setBound(0, 10);\n",
    "plot.getYAxes()[1].setBound(0, 7);\n",
    "plot"
   ]
  },
  {
   "cell_type": "code",
   "execution_count": 4,
   "metadata": {},
   "outputs": [
    {
     "data": {
      "application/vnd.jupyter.widget-view+json": {
       "model_id": "34c4eb9e-a99e-4559-826e-38219b8e0e92",
       "version_major": 2,
       "version_minor": 0
      },
      "method": "display_data"
     },
     "metadata": {},
     "output_type": "display_data"
    }
   ],
   "source": [
    "def plot = new CategoryPlot(title: \"Default scale\")\n",
    "def cs = [new Color(255, 0, 0, 128)] * 5 // transparent color\n",
    "def cs1 = [new Color(0, 0, 0, 128)] * 5 // transparent color\n",
    "plot << new YAxis(label:\"nd\")\n",
    "plot << new CategoryBars(value: [[4, 4, 4, 8], [5, 5, 5, 9]], color: cs)\n",
    "plot << new CategoryBars(value: [[2, 4, 6, 8], [3, 5, 7, 9]], color: cs1, yAxis: \"nd\")\n",
    "plot"
   ]
  },
  {
   "cell_type": "code",
   "execution_count": 5,
   "metadata": {},
   "outputs": [
    {
     "data": {
      "application/vnd.jupyter.widget-view+json": {
       "model_id": "555c5c78-7aed-48d4-b5f8-f9d663c32de5",
       "version_major": 2,
       "version_minor": 0
      },
      "method": "display_data"
     },
     "metadata": {},
     "output_type": "display_data"
    }
   ],
   "source": [
    "def plot = new CategoryPlot(title: \"The same scale\")\n",
    "def cs = [new Color(255, 0, 0, 128)] * 5 // transparent color\n",
    "def cs1 = [new Color(0, 0, 0, 128)] * 5 // transparent color\n",
    "plot << new YAxis(label:\"nd\")\n",
    "plot << new CategoryBars(value: [[4, 4, 4, 8], [5, 5, 5, 9]], color: cs)\n",
    "plot << new CategoryBars(value: [[2, 4, 6, 8], [3, 5, 7, 9]], color: cs1, yAxis: \"nd\")\n",
    "plot.getYAxes()[0].setBound(0, 11);\n",
    "plot.getYAxes()[1].setBound(0, 11);\n",
    "plot"
   ]
  },
  {
   "cell_type": "code",
   "execution_count": 6,
   "metadata": {},
   "outputs": [
    {
     "data": {
      "application/vnd.jupyter.widget-view+json": {
       "model_id": "3ee6c9be-4ccf-4b89-9abd-81a73f3879f7",
       "version_major": 2,
       "version_minor": 0
      },
      "method": "display_data"
     },
     "metadata": {},
     "output_type": "display_data"
    }
   ],
   "source": [
    "def plot = new CategoryPlot(title: \"2nd YAxis is zoomed\")\n",
    "def cs = [new Color(255, 0, 0, 128)] * 5 // transparent color\n",
    "def cs1 = [new Color(0, 0, 0, 128)] * 5 // transparent color\n",
    "plot << new YAxis(label:\"nd\")\n",
    "plot << new CategoryBars(value: [[4, 4, 4, 8], [5, 5, 5, 9]], color: cs)\n",
    "plot << new CategoryBars(value: [[2, 4, 6, 8], [3, 5, 7, 9]], color: cs1, yAxis: \"nd\")\n",
    "plot.getYAxes()[0].setBound(0, 9);\n",
    "plot.getYAxes()[1].setBound(0, 7);\n",
    "plot"
   ]
  },
  {
   "cell_type": "code",
   "execution_count": 7,
   "metadata": {},
   "outputs": [
    {
     "data": {
      "application/vnd.jupyter.widget-view+json": {
       "model_id": "7634f59c-f147-465e-bb5e-196c13dda862",
       "version_major": 2,
       "version_minor": 0
      },
      "method": "display_data"
     },
     "metadata": {},
     "output_type": "display_data"
    }
   ],
   "source": [
    "def plot = new Plot(title: \"Default scale\");\n",
    "plot << new YAxis(label:\"nd\")\n",
    "def ss = [StrokeType.DASH, StrokeType.DASH, StrokeType.DASH, StrokeType.DASH, StrokeType.DASH]\n",
    "plot << new Stems(y: [4, 4, 4, 8, 9], width: 2)\n",
    "plot << new Stems(y: [2, 4, 6, 5, 9], width: 6, style: ss, yAxis: \"nd\")\n",
    "plot"
   ]
  },
  {
   "cell_type": "code",
   "execution_count": 8,
   "metadata": {},
   "outputs": [
    {
     "data": {
      "application/vnd.jupyter.widget-view+json": {
       "model_id": "df53ce6b-63ec-4666-a782-6c39101530be",
       "version_major": 2,
       "version_minor": 0
      },
      "method": "display_data"
     },
     "metadata": {},
     "output_type": "display_data"
    }
   ],
   "source": [
    "def plot = new Plot(title: \"The same scale\");\n",
    "plot << new YAxis(label:\"nd\")\n",
    "def ss = [StrokeType.DASH, StrokeType.DASH, StrokeType.DASH, StrokeType.DASH, StrokeType.DASH]\n",
    "plot << new Stems(y: [4, 4, 4, 8, 9], width: 2)\n",
    "plot << new Stems(y: [2, 4, 6, 5, 9], width: 6, style: ss, yAxis: \"nd\")\n",
    "plot.getYAxes()[0].setBound(0, 11);\n",
    "plot.getYAxes()[1].setBound(0, 11);\n",
    "plot"
   ]
  },
  {
   "cell_type": "code",
   "execution_count": 9,
   "metadata": {},
   "outputs": [
    {
     "data": {
      "application/vnd.jupyter.widget-view+json": {
       "model_id": "7451a23b-6593-4a1d-96f3-985830bc377e",
       "version_major": 2,
       "version_minor": 0
      },
      "method": "display_data"
     },
     "metadata": {},
     "output_type": "display_data"
    }
   ],
   "source": [
    "def plot = new Plot(title: \"2nd YAxis is zoomed\");\n",
    "plot << new YAxis(label:\"nd\")\n",
    "def ss = [StrokeType.DASH, StrokeType.DASH, StrokeType.DASH, StrokeType.DASH, StrokeType.DASH]\n",
    "plot << new Stems(y: [4, 4, 4, 8, 9], width: 2)\n",
    "plot << new Stems(y: [2, 4, 6, 5, 9], width: 6, style: ss, yAxis: \"nd\")\n",
    "plot.getYAxes()[0].setBound(0, 9);\n",
    "plot.getYAxes()[1].setBound(0, 7);\n",
    "plot"
   ]
  },
  {
   "cell_type": "code",
   "execution_count": 10,
   "metadata": {},
   "outputs": [
    {
     "data": {
      "application/vnd.jupyter.widget-view+json": {
       "model_id": "c70229b5-b8eb-4991-a538-e57b651d0cb4",
       "version_major": 2,
       "version_minor": 0
      },
      "method": "display_data"
     },
     "metadata": {},
     "output_type": "display_data"
    }
   ],
   "source": [
    "def plot = new Plot(title: \"Default scale\")\n",
    "def cs = [new Color(255, 0, 0, 128)] * 5 // transparent bars\n",
    "def cs1 = [new Color(0, 0, 0, 128)] * 5 // transparent bars\n",
    "plot << new YAxis(label:\"nd\")\n",
    "plot << new Bars(y: [4, 4, 4, 8, 9], color: cs, width: 0.3)\n",
    "plot << new Bars(y: [2, 4, 6, 5, 9], color: cs1, width: 0.3, yAxis: \"nd\")\n",
    "plot"
   ]
  },
  {
   "cell_type": "code",
   "execution_count": 11,
   "metadata": {},
   "outputs": [
    {
     "data": {
      "application/vnd.jupyter.widget-view+json": {
       "model_id": "1434f621-6296-4fdb-a510-0c54797f2dfc",
       "version_major": 2,
       "version_minor": 0
      },
      "method": "display_data"
     },
     "metadata": {},
     "output_type": "display_data"
    }
   ],
   "source": [
    "def plot = new Plot(title: \"The same scale\")\n",
    "def cs = [new Color(255, 0, 0, 128)] * 5 // transparent bars\n",
    "def cs1 = [new Color(0, 0, 0, 128)] * 5 // transparent bars\n",
    "plot << new YAxis(label:\"nd\")\n",
    "plot << new Bars(y: [4, 4, 4, 8, 9], color: cs, width: 0.3)\n",
    "plot << new Bars(y: [2, 4, 6, 5, 9], color: cs1, width: 0.3, yAxis: \"nd\")\n",
    "plot.getYAxes()[0].setBound(0, 11);\n",
    "plot.getYAxes()[1].setBound(0, 11);\n",
    "plot"
   ]
  },
  {
   "cell_type": "code",
   "execution_count": 12,
   "metadata": {},
   "outputs": [
    {
     "data": {
      "application/vnd.jupyter.widget-view+json": {
       "model_id": "307834a1-0537-4016-8ba7-49855e7a4856",
       "version_major": 2,
       "version_minor": 0
      },
      "method": "display_data"
     },
     "metadata": {},
     "output_type": "display_data"
    }
   ],
   "source": [
    "def plot = new Plot(title: \"2nd YAxis is zoomed\")\n",
    "def cs = [new Color(255, 0, 0, 128)] * 5 // transparent bars\n",
    "def cs1 = [new Color(0, 0, 0, 128)] * 5 // transparent bars\n",
    "plot << new YAxis(label:\"nd\")\n",
    "plot << new Bars(y: [4, 4, 4, 8, 9], color: cs, width: 0.3)\n",
    "plot << new Bars(y: [2, 4, 6, 5, 9], color: cs1, width: 0.3, yAxis: \"nd\")\n",
    "plot.getYAxes()[0].setBound(0, 9);\n",
    "plot.getYAxes()[1].setBound(0, 7);\n",
    "plot"
   ]
  },
  {
   "cell_type": "code",
   "execution_count": 13,
   "metadata": {},
   "outputs": [
    {
     "data": {
      "application/vnd.jupyter.widget-view+json": {
       "model_id": "c44a4175-2d08-4ea2-bd47-809a90c91251",
       "version_major": 2,
       "version_minor": 0
      },
      "method": "display_data"
     },
     "metadata": {},
     "output_type": "display_data"
    }
   ],
   "source": [
    "def plot = new Plot(title: \"Default scale\")\n",
    "plot << new YAxis(label:\"nd\")\n",
    "plot << new Points(y: [4, 4, 4, 8, 9], size: 12.0, shape: ShapeType.CIRCLE)\n",
    "plot << new Points(y: [2, 4, 6, 5, 9], size: 5.0, shape: ShapeType.CIRCLE, yAxis: \"nd\")\n",
    "plot"
   ]
  },
  {
   "cell_type": "code",
   "execution_count": 14,
   "metadata": {},
   "outputs": [
    {
     "data": {
      "application/vnd.jupyter.widget-view+json": {
       "model_id": "41810103-d35b-44c1-a853-b299b5215f56",
       "version_major": 2,
       "version_minor": 0
      },
      "method": "display_data"
     },
     "metadata": {},
     "output_type": "display_data"
    }
   ],
   "source": [
    "def plot = new Plot(title: \"The same scale\")\n",
    "plot << new YAxis(label:\"nd\")\n",
    "plot << new Points(y: [4, 4, 4, 8, 9], size: 12.0, shape: ShapeType.CIRCLE)\n",
    "plot << new Points(y: [2, 4, 6, 5, 9], size: 5.0, shape: ShapeType.CIRCLE, yAxis: \"nd\")\n",
    "plot.getYAxes()[0].setBound(0, 11);\n",
    "plot.getYAxes()[1].setBound(0, 11);\n",
    "plot"
   ]
  },
  {
   "cell_type": "code",
   "execution_count": 15,
   "metadata": {},
   "outputs": [
    {
     "data": {
      "application/vnd.jupyter.widget-view+json": {
       "model_id": "f2ba697c-1012-49f4-bc38-2afa17f85f9a",
       "version_major": 2,
       "version_minor": 0
      },
      "method": "display_data"
     },
     "metadata": {},
     "output_type": "display_data"
    }
   ],
   "source": [
    "def plot = new Plot(title: \"2nd YAxis is zoomed\")\n",
    "plot << new YAxis(label:\"nd\")\n",
    "plot << new Points(y: [4, 4, 4, 8, 9], size: 12.0, shape: ShapeType.CIRCLE)\n",
    "plot << new Points(y: [2, 4, 6, 5, 9], size: 5.0, shape: ShapeType.CIRCLE, yAxis: \"nd\")\n",
    "plot.getYAxes()[0].setBound(0, 9);\n",
    "plot.getYAxes()[1].setBound(0, 7);\n",
    "plot"
   ]
  },
  {
   "cell_type": "code",
   "execution_count": 16,
   "metadata": {},
   "outputs": [
    {
     "data": {
      "application/vnd.jupyter.widget-view+json": {
       "model_id": "71639d01-3fed-49a0-85c2-a927155bf990",
       "version_major": 2,
       "version_minor": 0
      },
      "method": "display_data"
     },
     "metadata": {},
     "output_type": "display_data"
    }
   ],
   "source": [
    "def plot = new Plot(title: \"Default scale\")\n",
    "plot << new YAxis(label:\"nd\")\n",
    "plot << new Area(y: [4, 4, 4, 8, 9])\n",
    "plot << new Area(y: [2, 4, 6, 5, 9], yAxis: \"nd\")\n",
    "plot"
   ]
  },
  {
   "cell_type": "code",
   "execution_count": 17,
   "metadata": {},
   "outputs": [
    {
     "data": {
      "application/vnd.jupyter.widget-view+json": {
       "model_id": "2cd10a34-61c5-47aa-9d62-410a9309295c",
       "version_major": 2,
       "version_minor": 0
      },
      "method": "display_data"
     },
     "metadata": {},
     "output_type": "display_data"
    }
   ],
   "source": [
    "def plot = new Plot(title: \"The same scale\")\n",
    "plot << new YAxis(label:\"nd\")\n",
    "plot << new Area(y: [4, 4, 4, 8, 9])\n",
    "plot << new Area(y: [2, 4, 6, 5, 9], yAxis: \"nd\")\n",
    "plot.getYAxes()[0].setBound(0, 11);\n",
    "plot.getYAxes()[1].setBound(0, 11);\n",
    "plot"
   ]
  },
  {
   "cell_type": "code",
   "execution_count": 18,
   "metadata": {},
   "outputs": [
    {
     "data": {
      "application/vnd.jupyter.widget-view+json": {
       "model_id": "acf8b07d-0d5d-40bd-af16-2ba23734d727",
       "version_major": 2,
       "version_minor": 0
      },
      "method": "display_data"
     },
     "metadata": {},
     "output_type": "display_data"
    }
   ],
   "source": [
    "def plot = new Plot(title: \"2nd YAxis is zoomed\")\n",
    "plot << new YAxis(label:\"nd\")\n",
    "plot << new Area(y: [4, 4, 4, 8, 9])\n",
    "plot << new Area(y: [2, 4, 6, 5, 9], yAxis: \"nd\")\n",
    "plot.getYAxes()[0].setBound(0, 9);\n",
    "plot.getYAxes()[1].setBound(0, 7);\n",
    "plot"
   ]
  },
  {
   "cell_type": "code",
   "execution_count": 19,
   "metadata": {},
   "outputs": [
    {
     "data": {
      "application/vnd.jupyter.widget-view+json": {
       "model_id": "df07f622-324d-4bf6-a92c-1fb38818378d",
       "version_major": 2,
       "version_minor": 0
      },
      "method": "display_data"
     },
     "metadata": {},
     "output_type": "display_data"
    }
   ],
   "source": [
    "def cs1 = [new Color(255, 0, 0, 128)] * 5 // transparent bars\n",
    "def cs2 = [new Color(0, 0, 0, 128)] * 5 // transparent bars\n",
    "def ss = [StrokeType.DASH, StrokeType.DASH, StrokeType.DASH, StrokeType.DASH, StrokeType.DASH]\n",
    "def y1 = [4, 4, 4, 8, 9]\n",
    "def y2 = [2, 4, 6, 5, 9]\n",
    "\n",
    "def plot = new Plot(title: \"Default scale\")\n",
    "plot << new YAxis(label: \"nd\")\n",
    "plot << new Line(y: y1)\n",
    "plot << new Points(y: y1, size: 12.0, shape: ShapeType.CIRCLE)\n",
    "plot << new Bars(y: y1, color: cs1, width: 0.3)\n",
    "plot << new Stems(y: [4, 4, 4, 8, 9], width: 2)\n",
    "plot << new Line(y: y2, yAxis: \"nd\")\n",
    "plot << new Points(y: y2, size: 5.0, shape: ShapeType.CIRCLE, yAxis: \"nd\")\n",
    "plot << new Bars(y: y2, color: cs2, width: 0.3, yAxis: \"nd\")\n",
    "plot << new Stems(y: [2, 4, 6, 5, 9], width: 6, style: ss, yAxis: \"nd\")\n",
    "plot"
   ]
  },
  {
   "cell_type": "code",
   "execution_count": 20,
   "metadata": {},
   "outputs": [
    {
     "data": {
      "application/vnd.jupyter.widget-view+json": {
       "model_id": "06d7a1b4-56bd-47e2-a6cf-aa52878d20eb",
       "version_major": 2,
       "version_minor": 0
      },
      "method": "display_data"
     },
     "metadata": {},
     "output_type": "display_data"
    }
   ],
   "source": [
    "def cs1 = [new Color(255, 0, 0, 128)] * 5 // transparent bars\n",
    "def cs2 = [new Color(0, 0, 0, 128)] * 5 // transparent bars\n",
    "def ss = [StrokeType.DASH, StrokeType.DASH, StrokeType.DASH, StrokeType.DASH, StrokeType.DASH]\n",
    "def y1 = [4, 4, 4, 8, 9]\n",
    "def y2 = [2, 4, 6, 5, 9]\n",
    "\n",
    "def plot = new Plot(title: \"The same scale\")\n",
    "plot << new YAxis(label: \"nd\")\n",
    "plot << new Line(y: y1)\n",
    "plot << new Points(y: y1, size: 12.0, shape: ShapeType.CIRCLE)\n",
    "plot << new Bars(y: y1, color: cs1, width: 0.3)\n",
    "plot << new Stems(y: [4, 4, 4, 8, 9], width: 2)\n",
    "plot << new Line(y: y2, yAxis: \"nd\")\n",
    "plot << new Points(y: y2, size: 5.0, shape: ShapeType.CIRCLE, yAxis: \"nd\")\n",
    "plot << new Bars(y: y2, color: cs2, width: 0.3, yAxis: \"nd\")\n",
    "plot << new Stems(y: [2, 4, 6, 5, 9], width: 6, style: ss, yAxis: \"nd\")\n",
    "plot.getYAxes()[0].setBound(0, 11);\n",
    "plot.getYAxes()[1].setBound(0, 11);\n",
    "plot"
   ]
  },
  {
   "cell_type": "code",
   "execution_count": 21,
   "metadata": {},
   "outputs": [
    {
     "data": {
      "application/vnd.jupyter.widget-view+json": {
       "model_id": "14c22e1d-0b7c-4de9-9b56-8c5890a2aac1",
       "version_major": 2,
       "version_minor": 0
      },
      "method": "display_data"
     },
     "metadata": {},
     "output_type": "display_data"
    }
   ],
   "source": [
    "def cs1 = [new Color(255, 0, 0, 128)] * 5 // transparent bars\n",
    "def cs2 = [new Color(0, 0, 0, 128)] * 5 // transparent bars\n",
    "def ss = [StrokeType.DASH, StrokeType.DASH, StrokeType.DASH, StrokeType.DASH, StrokeType.DASH]\n",
    "def y1 = [4, 4, 4, 8, 9]\n",
    "def y2 = [2, 4, 6, 5, 9]\n",
    "\n",
    "def plot = new Plot(title: \"2nd YAxis is zoomed\")\n",
    "plot << new YAxis(label: \"nd\")\n",
    "plot << new Line(y: y1)\n",
    "plot << new Points(y: y1, size: 12.0, shape: ShapeType.CIRCLE)\n",
    "plot << new Bars(y: y1, color: cs1, width: 0.3)\n",
    "plot << new Stems(y: [4, 4, 4, 8, 9], width: 2)\n",
    "plot << new Line(y: y2, yAxis: \"nd\")\n",
    "plot << new Points(y: y2, size: 5.0, shape: ShapeType.CIRCLE, yAxis: \"nd\")\n",
    "plot << new Bars(y: y2, color: cs2, width: 0.3, yAxis: \"nd\")\n",
    "plot << new Stems(y: [2, 4, 6, 5, 9], width: 6, style: ss, yAxis: \"nd\")\n",
    "plot.getYAxes()[0].setBound(0, 9);\n",
    "plot.getYAxes()[1].setBound(0, 7);\n",
    "plot"
   ]
  },
  {
   "cell_type": "code",
   "execution_count": null,
   "metadata": {},
   "outputs": [],
   "source": []
  }
 ],
 "metadata": {
  "kernelspec": {
   "display_name": "Groovy",
   "language": "groovy",
   "name": "groovy"
  },
  "language_info": {
   "codemirror_mode": "groovy",
   "file_extension": ".groovy",
   "mimetype": "",
   "name": "Groovy",
   "nbconverter_exporter": "",
   "version": "2.4.3"
  }
 },
 "nbformat": 4,
 "nbformat_minor": 2
}
