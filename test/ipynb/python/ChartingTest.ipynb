{
 "cells": [
  {
   "cell_type": "markdown",
   "metadata": {},
   "source": [
    "# Histogram"
   ]
  },
  {
   "cell_type": "code",
   "execution_count": null,
   "metadata": {},
   "outputs": [],
   "source": [
    "# Generate some random data\n",
    "import random\n",
    "from beakerx import *\n",
    "dataH1 = []\n",
    "dataH2 = []\n",
    "\n",
    "for x in range(1, 10000):\n",
    "  dataH1.append(random.gauss(0, 1))  \n",
    "  dataH2.append(2*random.gauss(0, 1) + 1.0)"
   ]
  },
  {
   "cell_type": "code",
   "execution_count": null,
   "metadata": {},
   "outputs": [],
   "source": [
    "Histogram(data= dataH1, binCount= 25)"
   ]
  },
  {
   "cell_type": "code",
   "execution_count": null,
   "metadata": {},
   "outputs": [],
   "source": [
    "Histogram(\n",
    "    initWidth=800,\n",
    "    initHeight=200,\n",
    "              title=\"Wide Histogram with Manual Parameters\",\n",
    "              xLabel=\"Size\",\n",
    "              yLabel=\"Count\",\n",
    "              rangeMin= -8, \n",
    "              rangeMax= 8, \n",
    "              data= dataH1,\n",
    "              binCount= 99, \n",
    "              color= Color(0, 154, 166))"
   ]
  },
  {
   "cell_type": "code",
   "execution_count": null,
   "metadata": {},
   "outputs": [],
   "source": [
    "Histogram(title= \"Default is Overlap\",\n",
    "              data=  [dataH1, dataH2],\n",
    "              binCount=  25,\n",
    "              names= [\"old and tired 1\", \"new and improved 2\"],\n",
    "              color= [Color(0, 154, 166),\n",
    "                      Color(230, 50, 50, 128) # transparent!\n",
    "                     ])"
   ]
  },
  {
   "cell_type": "code",
   "execution_count": null,
   "metadata": {},
   "outputs": [],
   "source": [
    "Histogram(title= \"Stack\",\n",
    "              displayMode= Histogram.DisplayMode.STACK,\n",
    "              data= [dataH1, dataH2],\n",
    "              names= [\"old and tired 1\", \"new and improved 2\"],\n",
    "              binCount= 25)"
   ]
  },
  {
   "cell_type": "code",
   "execution_count": null,
   "metadata": {},
   "outputs": [],
   "source": [
    "Histogram(title= \"Side by Side\",\n",
    "              displayMode=  Histogram.DisplayMode.SIDE_BY_SIDE,\n",
    "              data = [dataH1,dataH2], \n",
    "              binCount= 25)"
   ]
  },
  {
   "cell_type": "code",
   "execution_count": null,
   "metadata": {},
   "outputs": [],
   "source": [
    "Histogram(title= \"Cumulative\",\n",
    "              cumulative= True,\n",
    "              data= dataH1,\n",
    "              binCount= 55)"
   ]
  },
  {
   "cell_type": "code",
   "execution_count": null,
   "metadata": {},
   "outputs": [],
   "source": [
    "Histogram(title= \"Normed, Area = 1.0\",\n",
    "              normed= True,\n",
    "              data= dataH1,\n",
    "              binCount= 55)"
   ]
  },
  {
   "cell_type": "code",
   "execution_count": null,
   "metadata": {},
   "outputs": [],
   "source": [
    "Histogram(log= True, data= dataH1, binCount= 55)"
   ]
  },
  {
   "cell_type": "code",
   "execution_count": null,
   "metadata": {},
   "outputs": [],
   "source": []
  }
 ],
 "metadata": {
  "kernelspec": {
   "display_name": "Python 3",
   "language": "python",
   "name": "python3"
  },
  "language_info": {
   "codemirror_mode": {
    "name": "ipython",
    "version": 3
   },
   "file_extension": ".py",
   "mimetype": "text/x-python",
   "name": "python",
   "nbconvert_exporter": "python",
   "pygments_lexer": "ipython3",
   "version": "3.6.4"
  },
  "toc": {
   "base_numbering": 1,
   "nav_menu": {},
   "number_sections": false,
   "sideBar": false,
   "skip_h1_title": false,
   "title_cell": "Table of Contents",
   "title_sidebar": "Contents",
   "toc_cell": false,
   "toc_position": {},
   "toc_section_display": false,
   "toc_window_display": false
  }
 },
 "nbformat": 4,
 "nbformat_minor": 2
}
