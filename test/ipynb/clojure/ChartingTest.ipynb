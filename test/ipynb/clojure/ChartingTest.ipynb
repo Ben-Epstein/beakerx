{
 "cells": [
  {
   "cell_type": "markdown",
   "metadata": {},
   "source": [
    "# Histogram"
   ]
  },
  {
   "cell_type": "code",
   "execution_count": null,
   "metadata": {},
   "outputs": [],
   "source": [
    "; Generate some random data\n",
    "\n",
    "(import '[java.util Random])\n",
    "(defn get-gaussian [n]\n",
    "  (let [rng (Random.)]\n",
    "    (repeatedly n #(.nextGaussian rng))))\n",
    "(def data1 (get-gaussian 10000))\n",
    "(def data2 \n",
    "    (for [d data1] (+ (* d 2) 1)))"
   ]
  },
  {
   "cell_type": "code",
   "execution_count": null,
   "metadata": {},
   "outputs": [],
   "source": [
    "(import '[com.twosigma.beakerx.chart.histogram Histogram]\n",
    "        '[com.twosigma.beakerx.chart Color])\n",
    "(doto (Histogram.)\n",
    "            (.setData data1)\n",
    "            (.setBinCount 25))"
   ]
  },
  {
   "cell_type": "code",
   "execution_count": null,
   "metadata": {},
   "outputs": [],
   "source": [
    "(doto (Histogram.)\n",
    "        (.setInitWidth 444)\n",
    "        (.setInitHeight 400)\n",
    "        (.setTitle \"Wide Histogram with Manual Parameters\")\n",
    "        (.setXLabel \"Size\")\n",
    "        (.setYLabel \"Count\")\n",
    "        (.setRangeMin (int -8))\n",
    "        (.setRangeMax (int 8))\n",
    "        (.setData (concat data1 (repeat 200 7.0)))\n",
    "        (.setBinCount 99)\n",
    "        (.setColor (doto (Color. 0 154 166))))"
   ]
  },
  {
   "cell_type": "code",
   "execution_count": null,
   "metadata": {},
   "outputs": [],
   "source": [
    "(doto (Histogram.)\n",
    "        (.setInitWidth 600)\n",
    "        (.setInitHeight 400)\n",
    "        (.setTitle \"Default is Overlap\")\n",
    "        (.setData (list data1 data2))\n",
    "        (.setNames (list \"old and tired 1\" \"new and improved 2\"))\n",
    "        (.setBinCount 25)\n",
    "        (.setColor \n",
    "            (list (doto (Color. 0 154 166)) (doto (Color. 230 50 50 128)))\n",
    "        )\n",
    ")"
   ]
  },
  {
   "cell_type": "code",
   "execution_count": null,
   "metadata": {},
   "outputs": [],
   "source": [
    "(import '[com.twosigma.beakerx.chart.histogram Histogram$DisplayMode])\n",
    "(doto (Histogram.)\n",
    "        (.setInitWidth 600)\n",
    "        (.setInitHeight 400)\n",
    "        (.setTitle \"Stack\")\n",
    "        (.setDisplayMode (Histogram$DisplayMode/STACK))\n",
    "        (.setData (list data1 data2))\n",
    "        (.setNames (list \"old and tired 1\" \"new and improved 2\"))\n",
    "        (.setBinCount 25)\n",
    ")"
   ]
  },
  {
   "cell_type": "code",
   "execution_count": null,
   "metadata": {},
   "outputs": [],
   "source": [
    "(doto (Histogram.)\n",
    "        (.setTitle \"Side by Side\")\n",
    "        (.setDisplayMode (Histogram$DisplayMode/SIDE_BY_SIDE))\n",
    "        (.setData (list data1 data2))\n",
    "        (.setBinCount 25)\n",
    ")"
   ]
  },
  {
   "cell_type": "code",
   "execution_count": null,
   "metadata": {},
   "outputs": [],
   "source": [
    "(doto (Histogram.)\n",
    "        (.setTitle \"Cumulative\")\n",
    "        (.setCumulative true)\n",
    "        (.setData data1)\n",
    "        (.setBinCount 55)\n",
    ")"
   ]
  },
  {
   "cell_type": "code",
   "execution_count": null,
   "metadata": {},
   "outputs": [],
   "source": [
    "(doto (Histogram.)\n",
    "        (.setTitle \"Normed, Area = 1.0\")\n",
    "        (.setNormed true)\n",
    "        (.setData data1)\n",
    "        (.setBinCount 55)\n",
    ")"
   ]
  },
  {
   "cell_type": "code",
   "execution_count": null,
   "metadata": {},
   "outputs": [],
   "source": [
    "(doto (Histogram.)\n",
    "        (.setTitle \"Log\")\n",
    "        (.setLog true)\n",
    "        (.setData data1)\n",
    "        (.setBinCount 55)\n",
    ")"
   ]
  },
  {
   "cell_type": "code",
   "execution_count": null,
   "metadata": {},
   "outputs": [],
   "source": []
  }
 ],
 "metadata": {
  "kernelspec": {
   "display_name": "Clojure",
   "language": "clojure",
   "name": "clojure"
  },
  "language_info": {
   "codemirror_mode": "Clojure",
   "file_extension": ".clj",
   "mimetype": "text/x-clojure",
   "name": "Clojure",
   "nbconverter_exporter": "",
   "version": "1.9.0"
  },
  "toc": {
   "base_numbering": 1,
   "nav_menu": {},
   "number_sections": false,
   "sideBar": false,
   "skip_h1_title": false,
   "title_cell": "Table of Contents",
   "title_sidebar": "Contents",
   "toc_cell": false,
   "toc_position": {},
   "toc_section_display": false,
   "toc_window_display": false
  }
 },
 "nbformat": 4,
 "nbformat_minor": 2
}
