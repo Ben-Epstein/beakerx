{
 "cells": [
  {
   "cell_type": "markdown",
   "metadata": {},
   "source": [
    "# Histogram"
   ]
  },
  {
   "cell_type": "code",
   "execution_count": null,
   "metadata": {},
   "outputs": [],
   "source": [
    "package beakerx.test;\n",
    "import java.util.Random;\n",
    "import java.util.List;\n",
    "import java.util.Arrays;\n",
    "\n",
    "public class ChartingData{\n",
    "    public static int n = 10000;\n",
    "    public static Double[] dataH1 = new Double[n];\n",
    "    public static Double[] dataH2 = new Double[n];\n",
    "        \n",
    "    static {\n",
    "        Random random = new Random();\n",
    "        for(int i = 0; i < n; i++){\n",
    "            dataH1[i] = random.nextGaussian();\n",
    "            dataH2[i] = 2* dataH1[i] + 1.0;\n",
    "        }\n",
    "    }\n",
    "      \n",
    "    public static List getDataH1(){\n",
    "        return Arrays.asList(dataH1);\n",
    "    }\n",
    "    \n",
    "    public static List getDataH2(){\n",
    "        return Arrays.asList(dataH2);\n",
    "    }\n",
    "\n",
    "}"
   ]
  },
  {
   "cell_type": "code",
   "execution_count": null,
   "metadata": {},
   "outputs": [],
   "source": [
    "package beakerx.test;\n",
    "\n",
    "Histogram h = new Histogram();\n",
    "h.setData(ChartingData.getDataH1());\n",
    "h.setBinCount(25);\n",
    "\n",
    "return h;"
   ]
  },
  {
   "cell_type": "code",
   "execution_count": null,
   "metadata": {},
   "outputs": [],
   "source": [
    "package beakerx.test;\n",
    "import java.util.ArrayList;\n",
    "\n",
    "ArrayList<Double> data = new ArrayList(ChartingData.getDataH1());\n",
    "int i = 0;\n",
    "while(i < 200){\n",
    "    data.add(new Double(7.0));\n",
    "    i++;\n",
    "}\n",
    "\n",
    "Histogram h = new Histogram();\n",
    "h.setInitWidth(444);\n",
    "h.setInitHeight(400);\n",
    "h.setTitle(\"Wide Histogram with Manual Parameters\");\n",
    "h.setXLabel(\"Size\");\n",
    "h.setYLabel(\"Count\");\n",
    "h.setRangeMin(-8);\n",
    "h.setRangeMax(8);\n",
    "h.setData(data);\n",
    "h.setBinCount(99);\n",
    "h.setColor(new Color(0, 154, 166));\n",
    "return h;"
   ]
  },
  {
   "cell_type": "code",
   "execution_count": null,
   "metadata": {},
   "outputs": [],
   "source": [
    "package beakerx.test;\n",
    "import java.util.Arrays;\n",
    "\n",
    "Histogram h = new Histogram();\n",
    "h.setInitWidth(600);\n",
    "h.setInitHeight(400);\n",
    "h.setTitle(\"Default is Overlap\");\n",
    "h.setData(Arrays.asList(ChartingData.getDataH1(), ChartingData.getDataH2()));\n",
    "h.setBinCount(25);\n",
    "h.setNames(Arrays.asList(\"old and tired 1\", \"new and improved 2\"));\n",
    "h.setColor(Arrays.asList(new Color(0, 154, 166), new Color(230, 50, 50, 128)));\n",
    "\n",
    "return h;"
   ]
  },
  {
   "cell_type": "code",
   "execution_count": null,
   "metadata": {},
   "outputs": [],
   "source": [
    "package beakerx.test;\n",
    "import java.util.Arrays;\n",
    "\n",
    "Histogram h = new Histogram();\n",
    "h.setInitWidth(600);\n",
    "h.setInitHeight(400);\n",
    "h.setTitle(\"Stack\");\n",
    "h.setData(Arrays.asList(ChartingData.getDataH1(), ChartingData.getDataH2()));\n",
    "h.setBinCount(25);\n",
    "h.setNames(Arrays.asList(\"old and tired 1\", \"new and improved 2\"));\n",
    "h.setDisplayMode(Histogram.DisplayMode.STACK);\n",
    "\n",
    "return h;"
   ]
  },
  {
   "cell_type": "code",
   "execution_count": null,
   "metadata": {},
   "outputs": [],
   "source": [
    "package beakerx.test;\n",
    "import java.util.Arrays;\n",
    "\n",
    "Histogram h = new Histogram();\n",
    "h.setTitle(\"Side by Side\");\n",
    "h.setData(Arrays.asList(ChartingData.getDataH1(), ChartingData.getDataH2()));\n",
    "h.setDisplayMode(Histogram.DisplayMode.SIDE_BY_SIDE);\n",
    "h.setBinCount(25);\n",
    "\n",
    "return h;"
   ]
  },
  {
   "cell_type": "code",
   "execution_count": null,
   "metadata": {},
   "outputs": [],
   "source": [
    "package beakerx.test;\n",
    "\n",
    "Histogram h = new Histogram();\n",
    "h.setTitle(\"Cumulative\");\n",
    "h.setData(ChartingData.getDataH1());\n",
    "h.setCumulative(true);\n",
    "h.setBinCount(55);\n",
    "\n",
    "return h;"
   ]
  },
  {
   "cell_type": "code",
   "execution_count": null,
   "metadata": {},
   "outputs": [],
   "source": [
    "package beakerx.test;\n",
    "\n",
    "Histogram h = new Histogram();\n",
    "h.setTitle(\"Normed, Area = 1.0\");\n",
    "h.setData(ChartingData.getDataH1());\n",
    "h.setNormed(true);\n",
    "h.setBinCount(55);\n",
    "\n",
    "return h;"
   ]
  },
  {
   "cell_type": "code",
   "execution_count": null,
   "metadata": {},
   "outputs": [],
   "source": [
    "package beakerx.test;\n",
    "\n",
    "Histogram h = new Histogram();\n",
    "h.setTitle(\"Log\");\n",
    "h.setData(ChartingData.getDataH1());\n",
    "h.setLog(true);\n",
    "h.setBinCount(55);\n",
    "\n",
    "return h;"
   ]
  },
  {
   "cell_type": "code",
   "execution_count": null,
   "metadata": {},
   "outputs": [],
   "source": []
  }
 ],
 "metadata": {
  "kernelspec": {
   "display_name": "Java",
   "language": "java",
   "name": "java"
  },
  "language_info": {
   "codemirror_mode": "text/x-java",
   "file_extension": ".java",
   "mimetype": "",
   "name": "Java",
   "nbconverter_exporter": "",
   "version": "1.8.0_121"
  },
  "toc": {
   "base_numbering": 1,
   "nav_menu": {},
   "number_sections": false,
   "sideBar": false,
   "skip_h1_title": false,
   "title_cell": "Table of Contents",
   "title_sidebar": "Contents",
   "toc_cell": false,
   "toc_position": {},
   "toc_section_display": false,
   "toc_window_display": false
  }
 },
 "nbformat": 4,
 "nbformat_minor": 2
}
