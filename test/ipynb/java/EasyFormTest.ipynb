{
 "cells": [
  {
   "cell_type": "code",
   "execution_count": null,
   "metadata": {},
   "outputs": [],
   "source": [
    "package beakerx.test;\n",
    "\n",
    "public class EasyFormData {\n",
    "    static EasyForm f2;\n",
    "    static EasyForm[] arr;\n",
    "    static {\n",
    "        arr = new EasyForm[10];\n",
    "        for(int i = 0; i < 10; i++){\n",
    "            arr[i] = new EasyForm(\"form\" + i);\n",
    "        }\n",
    "    }\n",
    "    public static EasyForm getEasyForm(int i){\n",
    "        return arr[i];\n",
    "    }\n",
    "}"
   ]
  },
  {
   "cell_type": "code",
   "execution_count": null,
   "metadata": {},
   "outputs": [],
   "source": [
    "package beakerx.test;\n",
    "\n",
    "EasyFormData.getEasyForm(0).addTextField(\"field name0\");\n",
    "return EasyFormData.getEasyForm(0);"
   ]
  },
  {
   "cell_type": "code",
   "execution_count": null,
   "metadata": {},
   "outputs": [],
   "source": [
    "package beakerx.test;\n",
    "\n",
    "return EasyFormData.getEasyForm(0).get(\"field name0\");"
   ]
  },
  {
   "cell_type": "code",
   "execution_count": null,
   "metadata": {},
   "outputs": [],
   "source": [
    "package beakerx.test;\n",
    "\n",
    "EasyFormData.getEasyForm(0).put(\"field name0\", \"0text from code0\");"
   ]
  },
  {
   "cell_type": "code",
   "execution_count": null,
   "metadata": {},
   "outputs": [],
   "source": [
    "package beakerx.test;\n",
    "\n",
    "EasyFormData.getEasyForm(1).addTextField(\"field name1\", 10);\n",
    "return EasyFormData.getEasyForm(1);"
   ]
  },
  {
   "cell_type": "code",
   "execution_count": null,
   "metadata": {},
   "outputs": [],
   "source": [
    "package beakerx.test;\n",
    "\n",
    "EasyFormData.getEasyForm(2).addTextArea(\"field name2\");\n",
    "return EasyFormData.getEasyForm(2);"
   ]
  },
  {
   "cell_type": "code",
   "execution_count": null,
   "metadata": {},
   "outputs": [],
   "source": [
    "package beakerx.test;\n",
    "\n",
    "return EasyFormData.getEasyForm(2).get(\"field name2\");"
   ]
  },
  {
   "cell_type": "code",
   "execution_count": null,
   "metadata": {},
   "outputs": [],
   "source": [
    "package beakerx.test;\n",
    "\n",
    "EasyFormData.getEasyForm(2).put(\"field name2\", \"2text from code2\");"
   ]
  },
  {
   "cell_type": "code",
   "execution_count": null,
   "metadata": {},
   "outputs": [],
   "source": [
    "package beakerx.test;\n",
    "\n",
    "EasyFormData.getEasyForm(3).addTextArea(\"field name3\", 20, 5);\n",
    "return EasyFormData.getEasyForm(3);"
   ]
  },
  {
   "cell_type": "code",
   "execution_count": null,
   "metadata": {},
   "outputs": [],
   "source": [
    "package beakerx.test;\n",
    "\n",
    "EasyFormData.getEasyForm(4).addTextArea(\"field name4\", \"4 initial value 4\");\n",
    "return EasyFormData.getEasyForm(4);"
   ]
  },
  {
   "cell_type": "code",
   "execution_count": null,
   "metadata": {},
   "outputs": [],
   "source": []
  }
 ],
 "metadata": {
  "celltoolbar": "Tags",
  "kernelspec": {
   "display_name": "Java",
   "language": "java",
   "name": "java"
  },
  "language_info": {
   "codemirror_mode": "text/x-java",
   "file_extension": ".java",
   "mimetype": "",
   "name": "Java",
   "nbconverter_exporter": "",
   "version": "1.8.0_121"
  },
  "toc": {
   "base_numbering": 1,
   "nav_menu": {},
   "number_sections": false,
   "sideBar": false,
   "skip_h1_title": false,
   "title_cell": "Table of Contents",
   "title_sidebar": "Contents",
   "toc_cell": false,
   "toc_position": {},
   "toc_section_display": false,
   "toc_window_display": false
  }
 },
 "nbformat": 4,
 "nbformat_minor": 1
}
