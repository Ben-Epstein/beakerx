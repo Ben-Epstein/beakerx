{
 "cells": [
  {
   "cell_type": "markdown",
   "metadata": {},
   "source": [
    "# Load Magic Command"
   ]
  },
  {
   "cell_type": "code",
   "execution_count": 1,
   "metadata": {},
   "outputs": [
    {
     "name": "stdout",
     "output_type": "stream",
     "text": [
      "Added jar: [loadMagicJarDemo.jar]\n"
     ]
    }
   ],
   "source": [
    "%classpath add jar ../../../doc/resources/jar/loadMagicJarDemo.jar"
   ]
  },
  {
   "cell_type": "code",
   "execution_count": 2,
   "metadata": {},
   "outputs": [
    {
     "name": "stdout",
     "output_type": "stream",
     "text": [
      "Magic command %showEnvs was successfully added.\n"
     ]
    }
   ],
   "source": [
    "%load_magic com.twosigma.beakerx.custom.magic.command.ShowEnvsCustomMagicCommand"
   ]
  },
  {
   "cell_type": "code",
   "execution_count": 3,
   "metadata": {},
   "outputs": [
    {
     "name": "stdout",
     "output_type": "stream",
     "text": [
      "{PATH=C:\\Aconda3\\envs\\labx\\Scripts;C:\\Aconda3\\envs\\labx;C:\\Aconda3\\envs\\labx\\Library\\mingw-w64\\bin;C:\\Aconda3\\envs\\labx\\Library\\usr\\bin;C:\\Aconda3\\envs\\labx\\Library\\bin;C:\\Aconda3\\envs\\labx\\Scripts;C:\\Aconda3\\envs\\labx\\bin;C:\\ProgramData\\Oracle\\Java\\javapath;c:\\Program Files (x86)\\Java\\jdk1.8.0_101\\bin;C:\\Windows\\system32;C:\\Windows;C:\\Windows\\System32\\Wbem;C:\\Windows\\System32\\WindowsPowerShell\\v1.0\\;C:\\Program Files\\TortoiseSVN\\bin;C:\\Program Files\\TortoiseGit\\bin;c:\\JavaPrograms\\apache-maven-3.2.5\\bin;c:\\soft\\mongodb-win32-x86_64-2008plus-2.6.7\\bin;c:\\nginx\\nginx-1.4.7\\;c:\\Program Files\\7-Zip\\;c:\\Program Files (x86)\\GnuWin32\\bin\\;c:\\JavaPrograms\\gradle-4.2\\bin\\;C:\\Program Files (x86)\\Git\\cmd;C:\\Program Files (x86)\\LLVM\\bin;C:\\tmp49\\mingw32\\bin;C:\\PROGRA~2\\Groovy\\GROOVY~1.0\\bin;C:\\Users\\efimovvv\\.dnx\\bin;C:\\Program Files\\Microsoft DNX\\Dnvm\\;C:\\Program Files (x86)\\Windows Kits\\8.1\\Windows Performance Toolkit\\;C:\\Program Files\\Microsoft SQL Server\\130\\Tools\\Binn\\;C:\\Program Files (x86)\\Yarn\\bin;C:\\Program Files\\nodejs\\;C:\\Program Files (x86)\\Skype\\Phone\\;C:\\Aconda3;C:\\Aconda3\\Scripts;C:\\Aconda3\\Library\\bin;C:\\Ruby22-x64\\bin;C:\\Users\\efimovvv\\AppData\\Local\\Programs\\Fiddler;C:\\Users\\efimovvv\\AppData\\Local\\Yarn\\bin;C:\\Users\\efimovvv\\AppData\\Roaming\\npm, USERDOMAIN_ROAMINGPROFILE=QULIX, PROCESSOR_LEVEL=6, SYSTEMDRIVE=C:, FP_NO_HOST_CHECK=NO, VS140COMNTOOLS=C:\\Program Files (x86)\\Microsoft Visual Studio 14.0\\Common7\\Tools\\, CONDA_DEFAULT_ENV=labx, SESSIONNAME=Console, ALLUSERSPROFILE=C:\\ProgramData, IPY_INTERRUPT_EVENT=2244, CONDA_PYTHON_EXE=C:\\Aconda3\\python.exe, PROCESSOR_ARCHITECTURE=AMD64, PS1=groovy>, CONDA_PREFIX=C:\\Aconda3\\envs\\labx, COMMANDER_INI=C:\\Users\\efimovvv\\AppData\\Roaming\\GHISLER\\wincmd.ini, MAVEN_HOME=c:\\JavaPrograms\\apache-maven-3.2.5, PROGRAMFILES=C:\\Program Files, PSMODULEPATH=C:\\Windows\\system32\\WindowsPowerShell\\v1.0\\Modules\\, JPY_INTERRUPT_EVENT=2244, PROGRAMDATA=C:\\ProgramData, USERNAME=efimovvv, USERDNSDOMAIN=QULIX.COM, PATHEXT=.COM;.EXE;.BAT;.CMD;.VBS;.VBE;.JS;.JSE;.WSF;.WSH;.MSC;.RB;.RBW;.groovy;.gy;.RB;.RBW, JAVA_HOME_CONDA_BACKUP=c:\\Program Files (x86)\\Java\\jdk1.8.0_101, WINDIR=C:\\Windows, COMMANDER_PATH=C:\\totalcmd, HOMEPATH=\\Users\\efimovvv, PROCESSOR_IDENTIFIER=Intel64 Family 6 Model 23 Stepping 10, GenuineIntel, GYP_MSVS_VERSION=2015, WINDOWS_TRACING_LOGFILE=C:\\BVTBin\\Tests\\installpackage\\csilogfile.log, HADOOP_HOME=C:\\soft\\hadoop-2.6.4, CONDA_PROMPT_MODIFIER=(labx) , PUBLIC=C:\\Users\\Public, LOCALAPPDATA=C:\\Users\\efimovvv\\AppData\\Local, COMMANDER_EXE=C:\\totalcmd\\TOTALCMD64.EXE, COMMANDER_DRIVE=C:, COMMONPROGRAMFILES(X86)=C:\\Program Files (x86)\\Common Files, USERDOMAIN=QULIX, LOGONSERVER=\\\\QTS-DC-01, JAVA_HOME=C:\\Aconda3\\envs\\labx\\Library, PROMPT=(labx) $P$G, PROGRAMFILES(X86)=C:\\Program Files (x86), GRADLE_HOME=c:\\JavaPrograms\\gradle-4.2, GROOVY_HOME=C:\\PROGRA~2\\Groovy\\GROOVY~1.0, WINDOWS_TRACING_FLAGS=3, APPDATA=C:\\Users\\efimovvv\\AppData\\Roaming, JPY_PARENT_PID=2152, PROGRAMW6432=C:\\Program Files, SYSTEMROOT=C:\\Windows, CONDA_SHLVL=1, OS=Windows_NT, COMMONPROGRAMW6432=C:\\Program Files\\Common Files, COMPUTERNAME=QWS-VEF-7, PYTHONIOENCODING=1251, COMMONPROGRAMFILES=C:\\Program Files\\Common Files, COMSPEC=C:\\Windows\\system32\\cmd.exe, PROCESSOR_REVISION=170a, TEMP=C:\\Users\\efimovvv\\AppData\\Local\\Temp, HOMEDRIVE=C:, USERPROFILE=C:\\Users\\efimovvv, TMP=C:\\Users\\efimovvv\\AppData\\Local\\Temp, NUMBER_OF_PROCESSORS=2}\n"
     ]
    }
   ],
   "source": [
    "%showEnvs"
   ]
  },
  {
   "cell_type": "markdown",
   "metadata": {},
   "source": [
    "# Show Null Execution Result"
   ]
  },
  {
   "cell_type": "code",
   "execution_count": 4,
   "metadata": {},
   "outputs": [
    {
     "data": {
      "text/plain": [
       "true"
      ]
     },
     "execution_count": 4,
     "metadata": {},
     "output_type": "execute_result"
    }
   ],
   "source": [
    "com.twosigma.beakerx.kernel.Kernel.showNullExecutionResult"
   ]
  },
  {
   "cell_type": "code",
   "execution_count": 5,
   "metadata": {},
   "outputs": [
    {
     "data": {
      "text/plain": [
       "null"
      ]
     },
     "execution_count": 5,
     "metadata": {},
     "output_type": "execute_result"
    }
   ],
   "source": [
    "com.twosigma.beakerx.kernel.Kernel.showNullExecutionResult = true;\n",
    "String seeNullString = null;\n",
    "seeNullString"
   ]
  },
  {
   "cell_type": "code",
   "execution_count": 12,
   "metadata": {},
   "outputs": [],
   "source": [
    "com.twosigma.beakerx.kernel.Kernel.showNullExecutionResult = false;\n",
    "String noNullString = null;\n",
    "noNullString"
   ]
  },
  {
   "cell_type": "markdown",
   "metadata": {},
   "source": [
    "# JVM Repr"
   ]
  },
  {
   "cell_type": "code",
   "execution_count": 13,
   "metadata": {},
   "outputs": [],
   "source": [
    "import jupyter.Displayer;\n",
    "import jupyter.Displayers;\n",
    "Displayers.register(Integer.class, new Displayer<Integer>() {\n",
    "  @Override\n",
    "  public Map<String, String> display(Integer value) {\n",
    "    return new HashMap<String, String>() {{\n",
    "      put(MIMEContainer.MIME.TEXT_HTML, \"<div><h1>\" + value + \"</h1></div>\");\n",
    "\n",
    "    }};\n",
    "  }\n",
    "});"
   ]
  },
  {
   "cell_type": "code",
   "execution_count": 8,
   "metadata": {},
   "outputs": [
    {
     "data": {
      "text/html": [
       "<div><h1>2</h1></div>"
      ]
     },
     "execution_count": 8,
     "metadata": {},
     "output_type": "execute_result"
    }
   ],
   "source": [
    "1+1"
   ]
  },
  {
   "cell_type": "code",
   "execution_count": null,
   "metadata": {},
   "outputs": [],
   "source": []
  }
 ],
 "metadata": {
  "kernelspec": {
   "display_name": "Groovy",
   "language": "groovy",
   "name": "groovy"
  },
  "language_info": {
   "codemirror_mode": "groovy",
   "file_extension": ".groovy",
   "mimetype": "",
   "name": "Groovy",
   "nbconverter_exporter": "",
   "version": "2.4.3"
  }
 },
 "nbformat": 4,
 "nbformat_minor": 2
}
