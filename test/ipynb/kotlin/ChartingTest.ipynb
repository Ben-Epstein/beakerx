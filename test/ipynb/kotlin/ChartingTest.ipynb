{
 "cells": [
  {
   "cell_type": "markdown",
   "metadata": {},
   "source": [
    "# Histograms in Kotlin\n",
    "\n",
    "In a histogram, the height of each bar (bin) represents the number of data points that fall into its interval.\n",
    "They are generally used to show the distribution of a variable."
   ]
  },
  {
   "cell_type": "code",
   "execution_count": null,
   "metadata": {},
   "outputs": [],
   "source": [
    "// Generate some random data\n",
    "\n",
    "val random = java.util.Random()\n",
    "\n",
    "val data1 = mutableListOf<Double>()\n",
    "val data2 = mutableListOf<Double>()\n",
    "\n",
    "for(i in 0..10000){\n",
    "  data1.add(random.nextGaussian());\n",
    "  data2.add(2*random.nextGaussian() + 1.0);\n",
    "}\n"
   ]
  },
  {
   "cell_type": "code",
   "execution_count": null,
   "metadata": {},
   "outputs": [],
   "source": [
    "val hist = Histogram()\n",
    "hist.setData(data1)\n",
    "hist.setBinCount(25)\n",
    "hist"
   ]
  },
  {
   "cell_type": "code",
   "execution_count": null,
   "metadata": {},
   "outputs": [],
   "source": [
    "val hist2 = Histogram()\n",
    "hist2.setInitWidth(444)\n",
    "hist2.setInitHeight(400)\n",
    "hist2.setTitle(\"Wide Histogram with Manual Parameters\")\n",
    "hist2.setXLabel(\"Size\")\n",
    "hist2.setYLabel(\"Count\")\n",
    "hist2.setRangeMin(-8)\n",
    "hist2.setRangeMax(8)\n",
    "hist2.setData(data1 + MutableList<Double>(200) { 7.0 })\n",
    "hist2.setBinCount(99)\n",
    "hist2.setColor(Color(0, 154, 166))\n",
    "hist2"
   ]
  },
  {
   "cell_type": "code",
   "execution_count": null,
   "metadata": {},
   "outputs": [],
   "source": [
    "val hist3 = Histogram()\n",
    "hist3.setTitle(\"Default is Overlap\")\n",
    "hist3.setNames(listOf(\"old and tired 1\", \"new and improved 2\"))\n",
    "hist3.setData(listOf(data1, data2))\n",
    "hist3.setBinCount(25)\n",
    "hist3.setColor(listOf(Color(0, 154, 166), Color(230, 50, 50, 128)))\n",
    "hist3"
   ]
  },
  {
   "cell_type": "code",
   "execution_count": null,
   "metadata": {},
   "outputs": [],
   "source": [
    "val hist4 = Histogram()\n",
    "hist4.setInitWidth(600)\n",
    "hist4.setInitHeight(400)\n",
    "hist4.setTitle(\"Stack\")\n",
    "hist4.setDisplayMode(Histogram.DisplayMode.STACK)\n",
    "hist4.setNames(listOf(\"old and tired 1\", \"new and improved 2\"))\n",
    "hist4.setData(listOf(data1, data2))\n",
    "hist4.setBinCount(25)\n",
    "hist4"
   ]
  },
  {
   "cell_type": "code",
   "execution_count": null,
   "metadata": {},
   "outputs": [],
   "source": [
    "val hist5 = Histogram()\n",
    "hist5.setTitle(\"Side by Side\")\n",
    "hist5.setDisplayMode(Histogram.DisplayMode.SIDE_BY_SIDE)\n",
    "hist5.setData(listOf(data1, data2))\n",
    "hist5.setBinCount(25)\n",
    "hist5"
   ]
  },
  {
   "cell_type": "code",
   "execution_count": null,
   "metadata": {},
   "outputs": [],
   "source": [
    "val hist6 = Histogram()\n",
    "hist6.setTitle(\"Cumulative\")\n",
    "hist6.setCumulative(true)\n",
    "hist6.setData(data1)\n",
    "hist6.setBinCount(55)\n",
    "hist6"
   ]
  },
  {
   "cell_type": "code",
   "execution_count": null,
   "metadata": {},
   "outputs": [],
   "source": [
    "val hist7 = Histogram()\n",
    "hist7.setTitle(\"Normed, Area = 1.0\")\n",
    "hist7.setNormed(true)\n",
    "hist7.setData(data1)\n",
    "hist7.setBinCount(55)\n",
    "hist7"
   ]
  },
  {
   "cell_type": "code",
   "execution_count": null,
   "metadata": {},
   "outputs": [],
   "source": [
    "val hist8 = Histogram()\n",
    "hist8.setTitle(\"Log\")\n",
    "hist8.setLog(true)\n",
    "hist8.setData(data1)\n",
    "hist8.setBinCount(55)\n",
    "hist8"
   ]
  },
  {
   "cell_type": "code",
   "execution_count": null,
   "metadata": {},
   "outputs": [],
   "source": []
  }
 ],
 "metadata": {
  "kernelspec": {
   "display_name": "Kotlin",
   "language": "kotlin",
   "name": "kotlin"
  },
  "language_info": {
   "codemirror_mode": "kotlin",
   "file_extension": ".kt",
   "mimetype": "",
   "name": "Kotlin",
   "nbconverter_exporter": "",
   "version": "1.2.21"
  },
  "toc": {
   "base_numbering": 1,
   "nav_menu": {},
   "number_sections": false,
   "sideBar": false,
   "skip_h1_title": false,
   "title_cell": "Table of Contents",
   "title_sidebar": "Contents",
   "toc_cell": false,
   "toc_position": {},
   "toc_section_display": false,
   "toc_window_display": false
  }
 },
 "nbformat": 4,
 "nbformat_minor": 2
}
